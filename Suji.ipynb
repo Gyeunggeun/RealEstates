{
 "cells": [
  {
   "cell_type": "code",
   "execution_count": null,
   "outputs": [],
   "source": [
    "# 매매가만 가지고 옴"
   ],
   "metadata": {
    "collapsed": false
   }
  },
  {
   "cell_type": "code",
   "execution_count": 2,
   "outputs": [],
   "source": [
    "import pandas as pd\n",
    "import requests"
   ],
   "metadata": {
    "collapsed": false,
    "ExecuteTime": {
     "start_time": "2023-04-25T00:07:14.158517Z",
     "end_time": "2023-04-25T00:07:14.172556Z"
    }
   }
  },
  {
   "cell_type": "code",
   "execution_count": 5,
   "outputs": [
    {
     "name": "stdout",
     "output_type": "stream",
     "text": [
      "출처: 행정기관(행정동) 및 관할구역(법정동) 변경내역(2023. 2. 24. 시행)\n",
      "URL: https://www.mois.go.kr/frt/bbs/type001/commonSelectBoardArticle.do?bbsId=BBSMSTR_000000000052&nttId=98870\n",
      "\n"
     ]
    },
    {
     "data": {
      "text/plain": "     시도코드  시도명  시군구코드     시군구명       법정동코드 읍면동명 동리명      생성일자 말소일자\n6346   41  경기도  41465  용인시 수지구  4146500000           20051031     ",
      "text/html": "<div>\n<style scoped>\n    .dataframe tbody tr th:only-of-type {\n        vertical-align: middle;\n    }\n\n    .dataframe tbody tr th {\n        vertical-align: top;\n    }\n\n    .dataframe thead th {\n        text-align: right;\n    }\n</style>\n<table border=\"1\" class=\"dataframe\">\n  <thead>\n    <tr style=\"text-align: right;\">\n      <th></th>\n      <th>시도코드</th>\n      <th>시도명</th>\n      <th>시군구코드</th>\n      <th>시군구명</th>\n      <th>법정동코드</th>\n      <th>읍면동명</th>\n      <th>동리명</th>\n      <th>생성일자</th>\n      <th>말소일자</th>\n    </tr>\n  </thead>\n  <tbody>\n    <tr>\n      <th>6346</th>\n      <td>41</td>\n      <td>경기도</td>\n      <td>41465</td>\n      <td>용인시 수지구</td>\n      <td>4146500000</td>\n      <td></td>\n      <td></td>\n      <td>20051031</td>\n      <td></td>\n    </tr>\n  </tbody>\n</table>\n</div>"
     },
     "execution_count": 5,
     "metadata": {},
     "output_type": "execute_result"
    }
   ],
   "source": [
    "# 시군구 코드 조회하기\n",
    "import PublicDataReader as pdr\n",
    "sigungu_name = \"수지구\"\n",
    "code = pdr.code_bdong()\n",
    "code.loc[(code['시군구명'].str.contains(sigungu_name)) &\n",
    "         (code['읍면동명']=='')]"
   ],
   "metadata": {
    "collapsed": false,
    "ExecuteTime": {
     "start_time": "2023-04-25T00:25:07.551380Z",
     "end_time": "2023-04-25T00:25:08.048640Z"
    }
   }
  },
  {
   "cell_type": "code",
   "execution_count": 30,
   "outputs": [
    {
     "name": "stdout",
     "output_type": "stream",
     "text": [
      "b'<?xml version=\"1.0\" encoding=\"UTF-8\" standalone=\"yes\"?><response><header><resultCode>00</resultCode><resultMsg>NORMAL SERVICE.</resultMsg></header><body><items><item><\\xea\\xb1\\xb0\\xeb\\x9e\\x98\\xea\\xb8\\x88\\xec\\x95\\xa1>    45,000</\\xea\\xb1\\xb0\\xeb\\x9e\\x98\\xea\\xb8\\x88\\xec\\x95\\xa1><\\xea\\xb1\\xb0\\xeb\\x9e\\x98\\xec\\x9c\\xa0\\xed\\x98\\x95>\\xec\\xa4\\x91\\xea\\xb0\\x9c\\xea\\xb1\\xb0\\xeb\\x9e\\x98</\\xea\\xb1\\xb0\\xeb\\x9e\\x98\\xec\\x9c\\xa0\\xed\\x98\\x95><\\xea\\xb1\\xb4\\xec\\xb6\\x95\\xeb\\x85\\x84\\xeb\\x8f\\x84>1994</\\xea\\xb1\\xb4\\xec\\xb6\\x95\\xeb\\x85\\x84\\xeb\\x8f\\x84><\\xeb\\x85\\x84>2023</\\xeb\\x85\\x84><\\xeb\\x8f\\x84\\xeb\\xa1\\x9c\\xeb\\xaa\\x85>\\xec\\x88\\x98\\xed\\x92\\x8d\\xeb\\xa1\\x9c</\\xeb\\x8f\\x84\\xeb\\xa1\\x9c\\xeb\\xaa\\x85><\\xeb\\x8f\\x84\\xeb\\xa1\\x9c\\xeb\\xaa\\x85\\xea\\xb1\\xb4\\xeb\\xac\\xbc\\xeb\\xb3\\xb8\\xeb\\xb2\\x88\\xed\\x98\\xb8\\xec\\xbd\\x94\\xeb\\x93\\x9c>00016</\\xeb\\x8f\\x84\\xeb\\xa1\\x9c\\xeb\\xaa\\x85\\xea\\xb1\\xb4\\xeb\\xac\\xbc\\xeb\\xb3\\xb8\\xeb\\xb2\\x88\\xed\\x98\\xb8\\xec\\xbd\\x94\\xeb\\x93\\x9c><\\xeb\\x8f\\x84\\xeb\\xa1\\x9c\\xeb\\xaa\\x85\\xea\\xb1\\xb4\\xeb\\xac\\xbc\\xeb\\xb6\\x80\\xeb\\xb2\\x88\\xed\\x98\\xb8\\xec\\xbd\\x94\\xeb\\x93\\x9c>00000</\\xeb\\x8f\\x84\\xeb\\xa1\\x9c\\xeb\\xaa\\x85\\xea\\xb1\\xb4\\xeb\\xac\\xbc\\xeb\\xb6\\x80\\xeb\\xb2\\x88\\xed\\x98\\xb8\\xec\\xbd\\x94\\xeb\\x93\\x9c><\\xeb\\x8f\\x84\\xeb\\xa1\\x9c\\xeb\\xaa\\x85\\xec\\x8b\\x9c\\xea\\xb5\\xb0\\xea\\xb5\\xac\\xec\\xbd\\x94\\xeb\\x93\\x9c>41465</\\xeb\\x8f\\x84\\xeb\\xa1\\x9c\\xeb\\xaa\\x85\\xec\\x8b\\x9c\\xea\\xb5\\xb0\\xea\\xb5\\xac\\xec\\xbd\\x94\\xeb\\x93\\x9c><\\xeb\\x8f\\x84\\xeb\\xa1\\x9c\\xeb\\xaa\\x85\\xec\\x9d\\xbc\\xeb\\xa0\\xa8\\xeb\\xb2\\x88\\xed\\x98\\xb8\\xec\\xbd\\x94\\xeb\\x93\\x9c>00</\\xeb\\x8f\\x84\\xeb\\xa1\\x9c\\xeb\\xaa\\x85\\xec\\x9d\\xbc\\xeb\\xa0\\xa8\\xeb\\xb2\\x88\\xed\\x98\\xb8\\xec\\xbd\\x94\\xeb\\x93\\x9c><\\xeb\\x8f\\x84\\xeb\\xa1\\x9c\\xeb\\xaa\\x85\\xec\\xbd\\x94\\xeb\\x93\\x9c>3205013</\\xeb\\x8f\\x84\\xeb\\xa1\\x9c\\xeb\\xaa\\x85\\xec\\xbd\\x94\\xeb\\x93\\x9c><\\xeb\\xb2\\x95\\xec\\xa0\\x95\\xeb\\x8f\\x99> \\xed\\x92\\x8d\\xeb\\x8d\\x95\\xec\\xb2\\x9c\\xeb\\x8f\\x99</\\xeb\\xb2\\x95\\xec\\xa0\\x95\\xeb\\x8f\\x99><\\xeb\\xb2\\x95\\xec\\xa0\\x95\\xeb\\x8f\\x99\\xeb\\xb3\\xb8\\xeb\\xb2\\x88\\xec\\xbd\\x94\\xeb\\x93\\x9c>0692</\\xeb\\xb2\\x95\\xec\\xa0\\x95\\xeb\\x8f\\x99\\xeb\\xb3\\xb8\\xeb\\xb2\\x88\\xec\\xbd\\x94\\xeb\\x93\\x9c><\\xeb\\xb2\\x95\\xec\\xa0\\x95\\xeb\\x8f\\x99\\xeb\\xb6\\x80\\xeb\\xb2\\x88\\xec\\xbd\\x94\\xeb\\x93\\x9c>0000</\\xeb\\xb2\\x95\\xec\\xa0\\x95\\xeb\\x8f\\x99\\xeb\\xb6\\x80\\xeb\\xb2\\x88\\xec\\xbd\\x94\\xeb\\x93\\x9c><\\xeb\\xb2\\x95\\xec\\xa0\\x95\\xeb\\x8f\\x99\\xec\\x8b\\x9c\\xea\\xb5\\xb0\\xea\\xb5\\xac\\xec\\xbd\\x94\\xeb\\x93\\x9c>41465</\\xeb\\xb2\\x95\\xec\\xa0\\x95\\xeb\\x8f\\x99\\xec\\x8b\\x9c\\xea\\xb5\\xb0\\xea\\xb5\\xac\\xec\\xbd\\x94\\xeb\\x93\\x9c><\\xeb\\xb2\\x95\\xec\\xa0\\x95\\xeb\\x8f\\x99\\xec\\x9d\\x8d\\xeb\\xa9\\xb4\\xeb\\x8f\\x99\\xec\\xbd\\x94\\xeb\\x93\\x9c>10100</\\xeb\\xb2\\x95\\xec\\xa0\\x95\\xeb\\x8f\\x99\\xec\\x9d\\x8d\\xeb\\xa9\\xb4\\xeb\\x8f\\x99\\xec\\xbd\\x94\\xeb\\x93\\x9c><\\xeb\\xb2\\x95\\xec\\xa0\\x95\\xeb\\x8f\\x99\\xec\\xa7\\x80\\xeb\\xb2\\x88\\xec\\xbd\\x94\\xeb\\x93\\x9c>1</\\xeb\\xb2\\x95\\xec\\xa0\\x95\\xeb\\x8f\\x99\\xec\\xa7\\x80\\xeb\\xb2\\x88\\xec\\xbd\\x94\\xeb\\x93\\x9c><\\xec\\x95\\x84\\xed\\x8c\\x8c\\xed\\x8a\\xb8>\\xeb\\xb3\\xb4\\xec\\x9b\\x90</\\xec\\x95\\x84\\xed\\x8c\\x8c\\xed\\x8a\\xb8><\\xec\\x9b\\x94>3</\\xec\\x9b\\x94><\\xec\\x9d\\xbc>1</\\xec\\x9d\\xbc><\\xec\\x9d\\xbc\\xeb\\xa0\\xa8\\xeb\\xb2\\x88\\xed\\x98\\xb8>41465-8</\\xec\\x9d\\xbc\\xeb\\xa0\\xa8\\xeb\\xb2\\x88\\xed\\x98\\xb8><\\xec\\xa0\\x84\\xec\\x9a\\xa9\\xeb\\xa9\\xb4\\xec\\xa0\\x81>59.721</\\xec\\xa0\\x84\\xec\\x9a\\xa9\\xeb\\xa9\\xb4\\xec\\xa0\\x81><\\xec\\xa4\\x91\\xea\\xb0\\x9c\\xec\\x82\\xac\\xec\\x86\\x8c\\xec\\x9e\\xac\\xec\\xa7\\x80>\\xea\\xb2\\xbd\\xea\\xb8\\xb0 \\xec\\x9a\\xa9\\xec\\x9d\\xb8\\xec\\x88\\x98\\xec\\xa7\\x80\\xea\\xb5\\xac</\\xec\\xa4\\x91\\xea\\xb0\\x9c\\xec\\x82\\xac\\xec\\x86\\x8c\\xec\\x9e\\xac\\xec\\xa7\\x80><\\xec\\xa7\\x80\\xeb\\xb2\\x88>692</\\xec\\xa7\\x80\\xeb\\xb2\\x88><\\xec\\xa7\\x80\\xec\\x97\\xad\\xec\\xbd\\x94\\xeb\\x93\\x9c>41465</\\xec\\xa7\\x80\\xec\\x97\\xad\\xec\\xbd\\x94\\xeb\\x93\\x9c><\\xec\\xb8\\xb5>4</\\xec\\xb8\\xb5><\\xed\\x95\\xb4\\xec\\xa0\\x9c\\xec\\x82\\xac\\xec\\x9c\\xa0\\xeb\\xb0\\x9c\\xec\\x83\\x9d\\xec\\x9d\\xbc> </\\xed\\x95\\xb4\\xec\\xa0\\x9c\\xec\\x82\\xac\\xec\\x9c\\xa0\\xeb\\xb0\\x9c\\xec\\x83\\x9d\\xec\\x9d\\xbc><\\xed\\x95\\xb4\\xec\\xa0\\x9c\\xec\\x97\\xac\\xeb\\xb6\\x80> </\\xed\\x95\\xb4\\xec\\xa0\\x9c\\xec\\x97\\xac\\xeb\\xb6\\x80></item><item><\\xea\\xb1\\xb0\\xeb\\x9e\\x98\\xea\\xb8\\x88\\xec\\x95\\xa1>   104,500</\\xea\\xb1\\xb0\\xeb\\x9e\\x98\\xea\\xb8\\x88\\xec\\x95\\xa1><\\xea\\xb1\\xb0\\xeb\\x9e\\x98\\xec\\x9c\\xa0\\xed\\x98\\x95>\\xec\\xa4\\x91\\xea\\xb0\\x9c\\xea\\xb1\\xb0\\xeb\\x9e\\x98</\\xea\\xb1\\xb0\\xeb\\x9e\\x98\\xec\\x9c\\xa0\\xed\\x98\\x95><\\xea\\xb1\\xb4\\xec\\xb6\\x95\\xeb\\x85\\x84\\xeb\\x8f\\x84>2017</\\xea\\xb1\\xb4\\xec\\xb6\\x95\\xeb\\x85\\x84\\xeb\\x8f\\x84><\\xeb\\x85\\x84>2023</\\xeb\\x85\\x84><\\xeb\\x8f\\x84\\xeb\\xa1\\x9c\\xeb\\xaa\\x85>\\xed\\x8f\\xac\\xec\\x9d\\x80\\xeb\\x8c\\x80\\xeb\\xa1\\x9c313\\xeb\\xb2\\x88\\xea\\xb8\\xb8</\\xeb\\x8f\\x84\\xeb\\xa1\\x9c\\xeb\\xaa\\x85><\\xeb\\x8f\\x84\\xeb\\xa1\\x9c\\xeb\\xaa\\x85\\xea\\xb1\\xb4\\xeb\\xac\\xbc\\xeb\\xb3\\xb8\\xeb\\xb2\\x88\\xed\\x98\\xb8\\xec\\xbd\\x94\\xeb\\x93\\x9c>00007</\\xeb\\x8f\\x84\\xeb\\xa1\\x9c\\xeb\\xaa\\x85\\xea\\xb1\\xb4\\xeb\\xac\\xbc\\xeb\\xb3\\xb8\\xeb\\xb2\\x88\\xed\\x98\\xb8\\xec\\xbd\\x94\\xeb\\x93\\x9c><\\xeb\\x8f\\x84\\xeb\\xa1\\x9c\\xeb\\xaa\\x85\\xea\\xb1\\xb4\\xeb\\xac\\xbc\\xeb\\xb6\\x80\\xeb\\xb2\\x88\\xed\\x98\\xb8\\xec\\xbd\\x94\\xeb\\x93\\x9c>00010</\\xeb\\x8f\\x84\\xeb\\xa1\\x9c\\xeb\\xaa\\x85\\xea\\xb1\\xb4\\xeb\\xac\\xbc\\xeb\\xb6\\x80\\xeb\\xb2\\x88\\xed\\x98\\xb8\\xec\\xbd\\x94\\xeb\\x93\\x9c><\\xeb\\x8f\\x84\\xeb\\xa1\\x9c\\xeb\\xaa\\x85\\xec\\x8b\\x9c\\xea\\xb5\\xb0\\xea\\xb5\\xac\\xec\\xbd\\x94\\xeb\\x93\\x9c>41465</\\xeb\\x8f\\x84\\xeb\\xa1\\x9c\\xeb\\xaa\\x85\\xec\\x8b\\x9c\\xea\\xb5\\xb0\\xea\\xb5\\xac\\xec\\xbd\\x94\\xeb\\x93\\x9c><\\xeb\\x8f\\x84\\xeb\\xa1\\x9c\\xeb\\xaa\\x85\\xec\\x9d\\xbc\\xeb\\xa0\\xa8\\xeb\\xb2\\x88\\xed\\x98\\xb8\\xec\\xbd\\x94\\xeb\\x93\\x9c>00</\\xeb\\x8f\\x84\\xeb\\xa1\\x9c\\xeb\\xaa\\x85\\xec\\x9d\\xbc\\xeb\\xa0\\xa8\\xeb\\xb2\\x88\\xed\\x98\\xb8\\xec\\xbd\\x94\\xeb\\x93\\x9c><\\xeb\\x8f\\x84\\xeb\\xa1\\x9c\\xeb\\xaa\\x85\\xec\\xa7\\x80\\xec\\x83\\x81\\xec\\xa7\\x80\\xed\\x95\\x98\\xec\\xbd\\x94\\xeb\\x93\\x9c>0</\\xeb\\x8f\\x84\\xeb\\xa1\\x9c\\xeb\\xaa\\x85\\xec\\xa7\\x80\\xec\\x83\\x81\\xec\\xa7\\x80\\xed\\x95\\x98\\xec\\xbd\\x94\\xeb\\x93\\x9c><\\xeb\\x8f\\x84\\xeb\\xa1\\x9c\\xeb\\xaa\\x85\\xec\\xbd\\x94\\xeb\\x93\\x9c>4415153</\\xeb\\x8f\\x84\\xeb\\xa1\\x9c\\xeb\\xaa\\x85\\xec\\xbd\\x94\\xeb\\x93\\x9c><\\xeb\\xb2\\x95\\xec\\xa0\\x95\\xeb\\x8f\\x99> \\xed\\x92\\x8d\\xeb\\x8d\\x95\\xec\\xb2\\x9c\\xeb\\x8f\\x99</\\xeb\\xb2\\x95\\xec\\xa0\\x95\\xeb\\x8f\\x99><\\xeb\\xb2\\x95\\xec\\xa0\\x95\\xeb\\x8f\\x99\\xeb\\xb3\\xb8\\xeb\\xb2\\x88\\xec\\xbd\\x94\\xeb\\x93\\x9c>1209</\\xeb\\xb2\\x95\\xec\\xa0\\x95\\xeb\\x8f\\x99\\xeb\\xb3\\xb8\\xeb\\xb2\\x88\\xec\\xbd\\x94\\xeb\\x93\\x9c><\\xeb\\xb2\\x95\\xec\\xa0\\x95\\xeb\\x8f\\x99\\xeb\\xb6\\x80\\xeb\\xb2\\x88\\xec\\xbd\\x94\\xeb\\x93\\x9c>0000</\\xeb\\xb2\\x95\\xec\\xa0\\x95\\xeb\\x8f\\x99\\xeb\\xb6\\x80\\xeb\\xb2\\x88\\xec\\xbd\\x94\\xeb\\x93\\x9c><\\xeb\\xb2\\x95\\xec\\xa0\\x95\\xeb\\x8f\\x99\\xec\\x8b\\x9c\\xea\\xb5\\xb0\\xea\\xb5\\xac\\xec\\xbd\\x94\\xeb\\x93\\x9c>41465</\\xeb\\xb2\\x95\\xec\\xa0\\x95\\xeb\\x8f\\x99\\xec\\x8b\\x9c\\xea\\xb5\\xb0\\xea\\xb5\\xac\\xec\\xbd\\x94\\xeb\\x93\\x9c><\\xeb\\xb2\\x95\\xec\\xa0\\x95\\xeb\\x8f\\x99\\xec\\x9d\\x8d\\xeb\\xa9\\xb4\\xeb\\x8f\\x99\\xec\\xbd\\x94\\xeb\\x93\\x9c>10100</\\xeb\\xb2\\x95\\xec\\xa0\\x95\\xeb\\x8f\\x99\\xec\\x9d\\x8d\\xeb\\xa9\\xb4\\xeb\\x8f\\x99\\xec\\xbd\\x94\\xeb\\x93\\x9c><\\xeb\\xb2\\x95\\xec\\xa0\\x95\\xeb\\x8f\\x99\\xec\\xa7\\x80\\xeb\\xb2\\x88\\xec\\xbd\\x94\\xeb\\x93\\x9c>1</\\xeb\\xb2\\x95\\xec\\xa0\\x95\\xeb\\x8f\\x99\\xec\\xa7\\x80\\xeb\\xb2\\x88\\xec\\xbd\\x94\\xeb\\x93\\x9c><\\xec\\x95\\x84\\xed\\x8c\\x8c\\xed\\x8a\\xb8>e\\xed\\x8e\\xb8\\xed\\x95\\x9c\\xec\\x84\\xb8\\xec\\x83\\x81\\xec\\x88\\x98\\xec\\xa7\\x80</\\xec\\x95\\x84\\xed\\x8c\\x8c\\xed\\x8a\\xb8><\\xec\\x9b\\x94>3</\\xec\\x9b\\x94><\\xec\\x9d\\xbc>1</\\xec\\x9d\\xbc><\\xec\\x9d\\xbc\\xeb\\xa0\\xa8\\xeb\\xb2\\x88\\xed\\x98\\xb8>41465-420</\\xec\\x9d\\xbc\\xeb\\xa0\\xa8\\xeb\\xb2\\x88\\xed\\x98\\xb8><\\xec\\xa0\\x84\\xec\\x9a\\xa9\\xeb\\xa9\\xb4\\xec\\xa0\\x81>84.943</\\xec\\xa0\\x84\\xec\\x9a\\xa9\\xeb\\xa9\\xb4\\xec\\xa0\\x81><\\xec\\xa4\\x91\\xea\\xb0\\x9c\\xec\\x82\\xac\\xec\\x86\\x8c\\xec\\x9e\\xac\\xec\\xa7\\x80>\\xea\\xb2\\xbd\\xea\\xb8\\xb0 \\xec\\x9a\\xa9\\xec\\x9d\\xb8\\xec\\x88\\x98\\xec\\xa7\\x80\\xea\\xb5\\xac</\\xec\\xa4\\x91\\xea\\xb0\\x9c\\xec\\x82\\xac\\xec\\x86\\x8c\\xec\\x9e\\xac\\xec\\xa7\\x80><\\xec\\xa7\\x80\\xeb\\xb2\\x88>1209</\\xec\\xa7\\x80\\xeb\\xb2\\x88><\\xec\\xa7\\x80\\xec\\x97\\xad\\xec\\xbd\\x94\\xeb\\x93\\x9c>41465</\\xec\\xa7\\x80\\xec\\x97\\xad\\xec\\xbd\\x94\\xeb\\x93\\x9c><\\xec\\xb8\\xb5>10</\\xec\\xb8\\xb5><\\xed\\x95\\xb4\\xec\\xa0\\x9c\\xec\\x82\\xac\\xec\\x9c\\xa0\\xeb\\xb0\\x9c\\xec\\x83\\x9d\\xec\\x9d\\xbc> </\\xed\\x95\\xb4\\xec\\xa0\\x9c\\xec\\x82\\xac\\xec\\x9c\\xa0\\xeb\\xb0\\x9c\\xec\\x83\\x9d\\xec\\x9d\\xbc><\\xed\\x95\\xb4\\xec\\xa0\\x9c\\xec\\x97\\xac\\xeb\\xb6\\x80> </\\xed\\x95\\xb4\\xec\\xa0\\x9c\\xec\\x97\\xac\\xeb\\xb6\\x80></item><item><\\xea\\xb1\\xb0\\xeb\\x9e\\x98\\xea\\xb8\\x88\\xec\\x95\\xa1>   103,000</\\xea\\xb1\\xb0\\xeb\\x9e\\x98\\xea\\xb8\\x88\\xec\\x95\\xa1><\\xea\\xb1\\xb0\\xeb\\x9e\\x98\\xec\\x9c\\xa0\\xed\\x98\\x95>\\xec\\xa4\\x91\\xea\\xb0\\x9c\\xea\\xb1\\xb0\\xeb\\x9e\\x98</\\xea\\xb1\\xb0\\xeb\\x9e\\x98\\xec\\x9c\\xa0\\xed\\x98\\x95><\\xea\\xb1\\xb4\\xec\\xb6\\x95\\xeb\\x85\\x84\\xeb\\x8f\\x84>2017</\\xea\\xb1\\xb4\\xec\\xb6\\x95\\xeb\\x85\\x84\\xeb\\x8f\\x84><\\xeb\\x85\\x84>2023</\\xeb\\x85\\x84><\\xeb\\x8f\\x84\\xeb\\xa1\\x9c\\xeb\\xaa\\x85>\\xed\\x8f\\xac\\xec\\x9d\\x80\\xeb\\x8c\\x80\\xeb\\xa1\\x9c313\\xeb\\xb2\\x88\\xea\\xb8\\xb8</\\xeb\\x8f\\x84\\xeb\\xa1\\x9c\\xeb\\xaa\\x85><\\xeb\\x8f\\x84\\xeb\\xa1\\x9c\\xeb\\xaa\\x85\\xea\\xb1\\xb4\\xeb\\xac\\xbc\\xeb\\xb3\\xb8\\xeb\\xb2\\x88\\xed\\x98\\xb8\\xec\\xbd\\x94\\xeb\\x93\\x9c>00007</\\xeb\\x8f\\x84\\xeb\\xa1\\x9c\\xeb\\xaa\\x85\\xea\\xb1\\xb4\\xeb\\xac\\xbc\\xeb\\xb3\\xb8\\xeb\\xb2\\x88\\xed\\x98\\xb8\\xec\\xbd\\x94\\xeb\\x93\\x9c><\\xeb\\x8f\\x84\\xeb\\xa1\\x9c\\xeb\\xaa\\x85\\xea\\xb1\\xb4\\xeb\\xac\\xbc\\xeb\\xb6\\x80\\xeb\\xb2\\x88\\xed\\x98\\xb8\\xec\\xbd\\x94\\xeb\\x93\\x9c>00010</\\xeb\\x8f\\x84\\xeb\\xa1\\x9c\\xeb\\xaa\\x85\\xea\\xb1\\xb4\\xeb\\xac\\xbc\\xeb\\xb6\\x80\\xeb\\xb2\\x88\\xed\\x98\\xb8\\xec\\xbd\\x94\\xeb\\x93\\x9c><\\xeb\\x8f\\x84\\xeb\\xa1\\x9c\\xeb\\xaa\\x85\\xec\\x8b\\x9c\\xea\\xb5\\xb0\\xea\\xb5\\xac\\xec\\xbd\\x94\\xeb\\x93\\x9c>41465</\\xeb\\x8f\\x84\\xeb\\xa1\\x9c\\xeb\\xaa\\x85\\xec\\x8b\\x9c\\xea\\xb5\\xb0\\xea\\xb5\\xac\\xec\\xbd\\x94\\xeb\\x93\\x9c><\\xeb\\x8f\\x84\\xeb\\xa1\\x9c\\xeb\\xaa\\x85\\xec\\x9d\\xbc\\xeb\\xa0\\xa8\\xeb\\xb2\\x88\\xed\\x98\\xb8\\xec\\xbd\\x94\\xeb\\x93\\x9c>00</\\xeb\\x8f\\x84\\xeb\\xa1\\x9c\\xeb\\xaa\\x85\\xec\\x9d\\xbc\\xeb\\xa0\\xa8\\xeb\\xb2\\x88\\xed\\x98\\xb8\\xec\\xbd\\x94\\xeb\\x93\\x9c><\\xeb\\x8f\\x84\\xeb\\xa1\\x9c\\xeb\\xaa\\x85\\xec\\xa7\\x80\\xec\\x83\\x81\\xec\\xa7\\x80\\xed\\x95\\x98\\xec\\xbd\\x94\\xeb\\x93\\x9c>0</\\xeb\\x8f\\x84\\xeb\\xa1\\x9c\\xeb\\xaa\\x85\\xec\\xa7\\x80\\xec\\x83\\x81\\xec\\xa7\\x80\\xed\\x95\\x98\\xec\\xbd\\x94\\xeb\\x93\\x9c><\\xeb\\x8f\\x84\\xeb\\xa1\\x9c\\xeb\\xaa\\x85\\xec\\xbd\\x94\\xeb\\x93\\x9c>4415153</\\xeb\\x8f\\x84\\xeb\\xa1\\x9c\\xeb\\xaa\\x85\\xec\\xbd\\x94\\xeb\\x93\\x9c><\\xeb\\xb2\\x95\\xec\\xa0\\x95\\xeb\\x8f\\x99> \\xed\\x92\\x8d\\xeb\\x8d\\x95\\xec\\xb2\\x9c\\xeb\\x8f\\x99</\\xeb\\xb2\\x95\\xec\\xa0\\x95\\xeb\\x8f\\x99><\\xeb\\xb2\\x95\\xec\\xa0\\x95\\xeb\\x8f\\x99\\xeb\\xb3\\xb8\\xeb\\xb2\\x88\\xec\\xbd\\x94\\xeb\\x93\\x9c>1209</\\xeb\\xb2\\x95\\xec\\xa0\\x95\\xeb\\x8f\\x99\\xeb\\xb3\\xb8\\xeb\\xb2\\x88\\xec\\xbd\\x94\\xeb\\x93\\x9c><\\xeb\\xb2\\x95\\xec\\xa0\\x95\\xeb\\x8f\\x99\\xeb\\xb6\\x80\\xeb\\xb2\\x88\\xec\\xbd\\x94\\xeb\\x93\\x9c>0000</\\xeb\\xb2\\x95\\xec\\xa0\\x95\\xeb\\x8f\\x99\\xeb\\xb6\\x80\\xeb\\xb2\\x88\\xec\\xbd\\x94\\xeb\\x93\\x9c><\\xeb\\xb2\\x95\\xec\\xa0\\x95\\xeb\\x8f\\x99\\xec\\x8b\\x9c\\xea\\xb5\\xb0\\xea\\xb5\\xac\\xec\\xbd\\x94\\xeb\\x93\\x9c>41465</\\xeb\\xb2\\x95\\xec\\xa0\\x95\\xeb\\x8f\\x99\\xec\\x8b\\x9c\\xea\\xb5\\xb0\\xea\\xb5\\xac\\xec\\xbd\\x94\\xeb\\x93\\x9c><\\xeb\\xb2\\x95\\xec\\xa0\\x95\\xeb\\x8f\\x99\\xec\\x9d\\x8d\\xeb\\xa9\\xb4\\xeb\\x8f\\x99\\xec\\xbd\\x94\\xeb\\x93\\x9c>10100</\\xeb\\xb2\\x95\\xec\\xa0\\x95\\xeb\\x8f\\x99\\xec\\x9d\\x8d\\xeb\\xa9\\xb4\\xeb\\x8f\\x99\\xec\\xbd\\x94\\xeb\\x93\\x9c><\\xeb\\xb2\\x95\\xec\\xa0\\x95\\xeb\\x8f\\x99\\xec\\xa7\\x80\\xeb\\xb2\\x88\\xec\\xbd\\x94\\xeb\\x93\\x9c>1</\\xeb\\xb2\\x95\\xec\\xa0\\x95\\xeb\\x8f\\x99\\xec\\xa7\\x80\\xeb\\xb2\\x88\\xec\\xbd\\x94\\xeb\\x93\\x9c><\\xec\\x95\\x84\\xed\\x8c\\x8c\\xed\\x8a\\xb8>e\\xed\\x8e\\xb8\\xed\\x95\\x9c\\xec\\x84\\xb8\\xec\\x83\\x81\\xec\\x88\\x98\\xec\\xa7\\x80</\\xec\\x95\\x84\\xed\\x8c\\x8c\\xed\\x8a\\xb8><\\xec\\x9b\\x94>3</\\xec\\x9b\\x94><\\xec\\x9d\\xbc>1</\\xec\\x9d\\xbc><\\xec\\x9d\\xbc\\xeb\\xa0\\xa8\\xeb\\xb2\\x88\\xed\\x98\\xb8>41465-420</\\xec\\x9d\\xbc\\xeb\\xa0\\xa8\\xeb\\xb2\\x88\\xed\\x98\\xb8><\\xec\\xa0\\x84\\xec\\x9a\\xa9\\xeb\\xa9\\xb4\\xec\\xa0\\x81>84.921</\\xec\\xa0\\x84\\xec\\x9a\\xa9\\xeb\\xa9\\xb4\\xec\\xa0\\x81><\\xec\\xa4\\x91\\xea\\xb0\\x9c\\xec\\x82\\xac\\xec\\x86\\x8c\\xec\\x9e\\xac\\xec\\xa7\\x80>\\xea\\xb2\\xbd\\xea\\xb8\\xb0 \\xec\\x9a\\xa9\\xec\\x9d\\xb8\\xea\\xb8\\xb0\\xed\\x9d\\xa5\\xea\\xb5\\xac, \\xea\\xb2\\xbd\\xea\\xb8\\xb0 \\xec\\x9a\\xa9\\xec\\x9d\\xb8\\xec\\x88\\x98\\xec\\xa7\\x80\\xea\\xb5\\xac</\\xec\\xa4\\x91\\xea\\xb0\\x9c\\xec\\x82\\xac\\xec\\x86\\x8c\\xec\\x9e\\xac\\xec\\xa7\\x80><\\xec\\xa7\\x80\\xeb\\xb2\\x88>1209</\\xec\\xa7\\x80\\xeb\\xb2\\x88><\\xec\\xa7\\x80\\xec\\x97\\xad\\xec\\xbd\\x94\\xeb\\x93\\x9c>41465</\\xec\\xa7\\x80\\xec\\x97\\xad\\xec\\xbd\\x94\\xeb\\x93\\x9c><\\xec\\xb8\\xb5>11</\\xec\\xb8\\xb5><\\xed\\x95\\xb4\\xec\\xa0\\x9c\\xec\\x82\\xac\\xec\\x9c\\xa0\\xeb\\xb0\\x9c\\xec\\x83\\x9d\\xec\\x9d\\xbc> </\\xed\\x95\\xb4\\xec\\xa0\\x9c\\xec\\x82\\xac\\xec\\x9c\\xa0\\xeb\\xb0\\x9c\\xec\\x83\\x9d\\xec\\x9d\\xbc><\\xed\\x95\\xb4\\xec\\xa0\\x9c\\xec\\x97\\xac\\xeb\\xb6\\x80> </\\xed\\x95\\xb4\\xec\\xa0\\x9c\\xec\\x97\\xac\\xeb\\xb6\\x80></item><item><\\xea\\xb1\\xb0\\xeb\\x9e\\x98\\xea\\xb8\\x88\\xec\\x95\\xa1>    70,000</\\xea\\xb1\\xb0\\xeb\\x9e\\x98\\xea\\xb8\\x88\\xec\\x95\\xa1><\\xea\\xb1\\xb0\\xeb\\x9e\\x98\\xec\\x9c\\xa0\\xed\\x98\\x95>\\xec\\xa4\\x91\\xea\\xb0\\x9c\\xea\\xb1\\xb0\\xeb\\x9e\\x98</\\xea\\xb1\\xb0\\xeb\\x9e\\x98\\xec\\x9c\\xa0\\xed\\x98\\x95><\\xea\\xb1\\xb4\\xec\\xb6\\x95\\xeb\\x85\\x84\\xeb\\x8f\\x84>2000</\\xea\\xb1\\xb4\\xec\\xb6\\x95\\xeb\\x85\\x84\\xeb\\x8f\\x84><\\xeb\\x85\\x84>2023</\\xeb\\x85\\x84><\\xeb\\x8f\\x84\\xeb\\xa1\\x9c\\xeb\\xaa\\x85>\\xec\\xa0\\x95\\xed\\x8f\\x89\\xeb\\xa1\\x9c</\\xeb\\x8f\\x84\\xeb\\xa1\\x9c\\xeb\\xaa\\x85><\\xeb\\x8f\\x84\\xeb\\xa1\\x9c\\xeb\\xaa\\x85\\xea\\xb1\\xb4\\xeb\\xac\\xbc\\xeb\\xb3\\xb8\\xeb\\xb2\\x88\\xed\\x98\\xb8\\xec\\xbd\\x94\\xeb\\x93\\x9c>00041</\\xeb\\x8f\\x84\\xeb\\xa1\\x9c\\xeb\\xaa\\x85\\xea\\xb1\\xb4\\xeb\\xac\\xbc\\xeb\\xb3\\xb8\\xeb\\xb2\\x88\\xed\\x98\\xb8\\xec\\xbd\\x94\\xeb\\x93\\x9c><\\xeb\\x8f\\x84\\xeb\\xa1\\x9c\\xeb\\xaa\\x85\\xea\\xb1\\xb4\\xeb\\xac\\xbc\\xeb\\xb6\\x80\\xeb\\xb2\\x88\\xed\\x98\\xb8\\xec\\xbd\\x94\\xeb\\x93\\x9c>00000</\\xeb\\x8f\\x84\\xeb\\xa1\\x9c\\xeb\\xaa\\x85\\xea\\xb1\\xb4\\xeb\\xac\\xbc\\xeb\\xb6\\x80\\xeb\\xb2\\x88\\xed\\x98\\xb8\\xec\\xbd\\x94\\xeb\\x93\\x9c><\\xeb\\x8f\\x84\\xeb\\xa1\\x9c\\xeb\\xaa\\x85\\xec\\x8b\\x9c\\xea\\xb5\\xb0\\xea\\xb5\\xac\\xec\\xbd\\x94\\xeb\\x93\\x9c>41465</\\xeb\\x8f\\x84\\xeb\\xa1\\x9c\\xeb\\xaa\\x85\\xec\\x8b\\x9c\\xea\\xb5\\xb0\\xea\\xb5\\xac\\xec\\xbd\\x94\\xeb\\x93\\x9c><\\xeb\\x8f\\x84\\xeb\\xa1\\x9c\\xeb\\xaa\\x85\\xec\\x9d\\xbc\\xeb\\xa0\\xa8\\xeb\\xb2\\x88\\xed\\x98\\xb8\\xec\\xbd\\x94\\xeb\\x93\\x9c>00</\\xeb\\x8f\\x84\\xeb\\xa1\\x9c\\xeb\\xaa\\x85\\xec\\x9d\\xbc\\xeb\\xa0\\xa8\\xeb\\xb2\\x88\\xed\\x98\\xb8\\xec\\xbd\\x94\\xeb\\x93\\x9c><\\xeb\\x8f\\x84\\xeb\\xa1\\x9c\\xeb\\xaa\\x85\\xec\\xbd\\x94\\xeb\\x93\\x9c>3205018</\\xeb\\x8f\\x84\\xeb\\xa1\\x9c\\xeb\\xaa\\x85\\xec\\xbd\\x94\\xeb\\x93\\x9c><\\xeb\\xb2\\x95\\xec\\xa0\\x95\\xeb\\x8f\\x99> \\xed\\x92\\x8d\\xeb\\x8d\\x95\\xec\\xb2\\x9c\\xeb\\x8f\\x99</\\xeb\\xb2\\x95\\xec\\xa0\\x95\\xeb\\x8f\\x99><\\xeb\\xb2\\x95\\xec\\xa0\\x95\\xeb\\x8f\\x99\\xeb\\xb3\\xb8\\xeb\\xb2\\x88\\xec\\xbd\\x94\\xeb\\x93\\x9c>1025</\\xeb\\xb2\\x95\\xec\\xa0\\x95\\xeb\\x8f\\x99\\xeb\\xb3\\xb8\\xeb\\xb2\\x88\\xec\\xbd\\x94\\xeb\\x93\\x9c><\\xeb\\xb2\\x95\\xec\\xa0\\x95\\xeb\\x8f\\x99\\xeb\\xb6\\x80\\xeb\\xb2\\x88\\xec\\xbd\\x94\\xeb\\x93\\x9c>0000</\\xeb\\xb2\\x95\\xec\\xa0\\x95\\xeb\\x8f\\x99\\xeb\\xb6\\x80\\xeb\\xb2\\x88\\xec\\xbd\\x94\\xeb\\x93\\x9c><\\xeb\\xb2\\x95\\xec\\xa0\\x95\\xeb\\x8f\\x99\\xec\\x8b\\x9c\\xea\\xb5\\xb0\\xea\\xb5\\xac\\xec\\xbd\\x94\\xeb\\x93\\x9c>41465</\\xeb\\xb2\\x95\\xec\\xa0\\x95\\xeb\\x8f\\x99\\xec\\x8b\\x9c\\xea\\xb5\\xb0\\xea\\xb5\\xac\\xec\\xbd\\x94\\xeb\\x93\\x9c><\\xeb\\xb2\\x95\\xec\\xa0\\x95\\xeb\\x8f\\x99\\xec\\x9d\\x8d\\xeb\\xa9\\xb4\\xeb\\x8f\\x99\\xec\\xbd\\x94\\xeb\\x93\\x9c>10100</\\xeb\\xb2\\x95\\xec\\xa0\\x95\\xeb\\x8f\\x99\\xec\\x9d\\x8d\\xeb\\xa9\\xb4\\xeb\\x8f\\x99\\xec\\xbd\\x94\\xeb\\x93\\x9c><\\xeb\\xb2\\x95\\xec\\xa0\\x95\\xeb\\x8f\\x99\\xec\\xa7\\x80\\xeb\\xb2\\x88\\xec\\xbd\\x94\\xeb\\x93\\x9c>1</\\xeb\\xb2\\x95\\xec\\xa0\\x95\\xeb\\x8f\\x99\\xec\\xa7\\x80\\xeb\\xb2\\x88\\xec\\xbd\\x94\\xeb\\x93\\x9c><\\xec\\x95\\x84\\xed\\x8c\\x8c\\xed\\x8a\\xb8>\\xec\\x8b\\xa0\\xec\\xa0\\x95\\xeb\\xa7\\x88\\xec\\x9d\\x84\\xec\\x9a\\xb0\\xec\\x84\\xb1</\\xec\\x95\\x84\\xed\\x8c\\x8c\\xed\\x8a\\xb8><\\xec\\x9b\\x94>3</\\xec\\x9b\\x94><\\xec\\x9d\\xbc>1</\\xec\\x9d\\xbc><\\xec\\x9d\\xbc\\xeb\\xa0\\xa8\\xeb\\xb2\\x88\\xed\\x98\\xb8>41465-21</\\xec\\x9d\\xbc\\xeb\\xa0\\xa8\\xeb\\xb2\\x88\\xed\\x98\\xb8><\\xec\\xa0\\x84\\xec\\x9a\\xa9\\xeb\\xa9\\xb4\\xec\\xa0\\x81>84.9</\\xec\\xa0\\x84\\xec\\x9a\\xa9\\xeb\\xa9\\xb4\\xec\\xa0\\x81><\\xec\\xa4\\x91\\xea\\xb0\\x9c\\xec\\x82\\xac\\xec\\x86\\x8c\\xec\\x9e\\xac\\xec\\xa7\\x80>\\xea\\xb2\\xbd\\xea\\xb8\\xb0 \\xec\\x9a\\xa9\\xec\\x9d\\xb8\\xec\\x88\\x98\\xec\\xa7\\x80\\xea\\xb5\\xac</\\xec\\xa4\\x91\\xea\\xb0\\x9c\\xec\\x82\\xac\\xec\\x86\\x8c\\xec\\x9e\\xac\\xec\\xa7\\x80><\\xec\\xa7\\x80\\xeb\\xb2\\x88>1025</\\xec\\xa7\\x80\\xeb\\xb2\\x88><\\xec\\xa7\\x80\\xec\\x97\\xad\\xec\\xbd\\x94\\xeb\\x93\\x9c>41465</\\xec\\xa7\\x80\\xec\\x97\\xad\\xec\\xbd\\x94\\xeb\\x93\\x9c><\\xec\\xb8\\xb5>18</\\xec\\xb8\\xb5><\\xed\\x95\\xb4\\xec\\xa0\\x9c\\xec\\x82\\xac\\xec\\x9c\\xa0\\xeb\\xb0\\x9c\\xec\\x83\\x9d\\xec\\x9d\\xbc> </\\xed\\x95\\xb4\\xec\\xa0\\x9c\\xec\\x82\\xac\\xec\\x9c\\xa0\\xeb\\xb0\\x9c\\xec\\x83\\x9d\\xec\\x9d\\xbc><\\xed\\x95\\xb4\\xec\\xa0\\x9c\\xec\\x97\\xac\\xeb\\xb6\\x80> </\\xed\\x95\\xb4\\xec\\xa0\\x9c\\xec\\x97\\xac\\xeb\\xb6\\x80></item><item><\\xea\\xb1\\xb0\\xeb\\x9e\\x98\\xea\\xb8\\x88\\xec\\x95\\xa1>    80,000</\\xea\\xb1\\xb0\\xeb\\x9e\\x98\\xea\\xb8\\x88\\xec\\x95\\xa1><\\xea\\xb1\\xb0\\xeb\\x9e\\x98\\xec\\x9c\\xa0\\xed\\x98\\x95>\\xec\\xa4\\x91\\xea\\xb0\\x9c\\xea\\xb1\\xb0\\xeb\\x9e\\x98</\\xea\\xb1\\xb0\\xeb\\x9e\\x98\\xec\\x9c\\xa0\\xed\\x98\\x95><\\xea\\xb1\\xb4\\xec\\xb6\\x95\\xeb\\x85\\x84\\xeb\\x8f\\x84>2000</\\xea\\xb1\\xb4\\xec\\xb6\\x95\\xeb\\x85\\x84\\xeb\\x8f\\x84><\\xeb\\x85\\x84>2023</\\xeb\\x85\\x84><\\xeb\\x8f\\x84\\xeb\\xa1\\x9c\\xeb\\xaa\\x85>\\xec\\xa0\\x95\\xed\\x8f\\x89\\xeb\\xa1\\x9c</\\xeb\\x8f\\x84\\xeb\\xa1\\x9c\\xeb\\xaa\\x85><\\xeb\\x8f\\x84\\xeb\\xa1\\x9c\\xeb\\xaa\\x85\\xea\\xb1\\xb4\\xeb\\xac\\xbc\\xeb\\xb3\\xb8\\xeb\\xb2\\x88\\xed\\x98\\xb8\\xec\\xbd\\x94\\xeb\\x93\\x9c>00061</\\xeb\\x8f\\x84\\xeb\\xa1\\x9c\\xeb\\xaa\\x85\\xea\\xb1\\xb4\\xeb\\xac\\xbc\\xeb\\xb3\\xb8\\xeb\\xb2\\x88\\xed\\x98\\xb8\\xec\\xbd\\x94\\xeb\\x93\\x9c><\\xeb\\x8f\\x84\\xeb\\xa1\\x9c\\xeb\\xaa\\x85\\xea\\xb1\\xb4\\xeb\\xac\\xbc\\xeb\\xb6\\x80\\xeb\\xb2\\x88\\xed\\x98\\xb8\\xec\\xbd\\x94\\xeb\\x93\\x9c>00000</\\xeb\\x8f\\x84\\xeb\\xa1\\x9c\\xeb\\xaa\\x85\\xea\\xb1\\xb4\\xeb\\xac\\xbc\\xeb\\xb6\\x80\\xeb\\xb2\\x88\\xed\\x98\\xb8\\xec\\xbd\\x94\\xeb\\x93\\x9c><\\xeb\\x8f\\x84\\xeb\\xa1\\x9c\\xeb\\xaa\\x85\\xec\\x8b\\x9c\\xea\\xb5\\xb0\\xea\\xb5\\xac\\xec\\xbd\\x94\\xeb\\x93\\x9c>41465</\\xeb\\x8f\\x84\\xeb\\xa1\\x9c\\xeb\\xaa\\x85\\xec\\x8b\\x9c\\xea\\xb5\\xb0\\xea\\xb5\\xac\\xec\\xbd\\x94\\xeb\\x93\\x9c><\\xeb\\x8f\\x84\\xeb\\xa1\\x9c\\xeb\\xaa\\x85\\xec\\x9d\\xbc\\xeb\\xa0\\xa8\\xeb\\xb2\\x88\\xed\\x98\\xb8\\xec\\xbd\\x94\\xeb\\x93\\x9c>01</\\xeb\\x8f\\x84\\xeb\\xa1\\x9c\\xeb\\xaa\\x85\\xec\\x9d\\xbc\\xeb\\xa0\\xa8\\xeb\\xb2\\x88\\xed\\x98\\xb8\\xec\\xbd\\x94\\xeb\\x93\\x9c><\\xeb\\x8f\\x84\\xeb\\xa1\\x9c\\xeb\\xaa\\x85\\xec\\xa7\\x80\\xec\\x83\\x81\\xec\\xa7\\x80\\xed\\x95\\x98\\xec\\xbd\\x94\\xeb\\x93\\x9c>0</\\xeb\\x8f\\x84\\xeb\\xa1\\x9c\\xeb\\xaa\\x85\\xec\\xa7\\x80\\xec\\x83\\x81\\xec\\xa7\\x80\\xed\\x95\\x98\\xec\\xbd\\x94\\xeb\\x93\\x9c><\\xeb\\x8f\\x84\\xeb\\xa1\\x9c\\xeb\\xaa\\x85\\xec\\xbd\\x94\\xeb\\x93\\x9c>3205018</\\xeb\\x8f\\x84\\xeb\\xa1\\x9c\\xeb\\xaa\\x85\\xec\\xbd\\x94\\xeb\\x93\\x9c><\\xeb\\xb2\\x95\\xec\\xa0\\x95\\xeb\\x8f\\x99> \\xed\\x92\\x8d\\xeb\\x8d\\x95\\xec\\xb2\\x9c\\xeb\\x8f\\x99</\\xeb\\xb2\\x95\\xec\\xa0\\x95\\xeb\\x8f\\x99><\\xeb\\xb2\\x95\\xec\\xa0\\x95\\xeb\\x8f\\x99\\xeb\\xb3\\xb8\\xeb\\xb2\\x88\\xec\\xbd\\x94\\xeb\\x93\\x9c>1021</\\xeb\\xb2\\x95\\xec\\xa0\\x95\\xeb\\x8f\\x99\\xeb\\xb3\\xb8\\xeb\\xb2\\x88\\xec\\xbd\\x94\\xeb\\x93\\x9c><\\xeb\\xb2\\x95\\xec\\xa0\\x95\\xeb\\x8f\\x99\\xeb\\xb6\\x80\\xeb\\xb2\\x88\\xec\\xbd\\x94\\xeb\\x93\\x9c>0000</\\xeb\\xb2\\x95\\xec\\xa0\\x95\\xeb\\x8f\\x99\\xeb\\xb6\\x80\\xeb\\xb2\\x88\\xec\\xbd\\x94\\xeb\\x93\\x9c><\\xeb\\xb2\\x95\\xec\\xa0\\x95\\xeb\\x8f\\x99\\xec\\x8b\\x9c\\xea\\xb5\\xb0\\xea\\xb5\\xac\\xec\\xbd\\x94\\xeb\\x93\\x9c>41465</\\xeb\\xb2\\x95\\xec\\xa0\\x95\\xeb\\x8f\\x99\\xec\\x8b\\x9c\\xea\\xb5\\xb0\\xea\\xb5\\xac\\xec\\xbd\\x94\\xeb\\x93\\x9c><\\xeb\\xb2\\x95\\xec\\xa0\\x95\\xeb\\x8f\\x99\\xec\\x9d\\x8d\\xeb\\xa9\\xb4\\xeb\\x8f\\x99\\xec\\xbd\\x94\\xeb\\x93\\x9c>10100</\\xeb\\xb2\\x95\\xec\\xa0\\x95\\xeb\\x8f\\x99\\xec\\x9d\\x8d\\xeb\\xa9\\xb4\\xeb\\x8f\\x99\\xec\\xbd\\x94\\xeb\\x93\\x9c><\\xeb\\xb2\\x95\\xec\\xa0\\x95\\xeb\\x8f\\x99\\xec\\xa7\\x80\\xeb\\xb2\\x88\\xec\\xbd\\x94\\xeb\\x93\\x9c>1</\\xeb\\xb2\\x95\\xec\\xa0\\x95\\xeb\\x8f\\x99\\xec\\xa7\\x80\\xeb\\xb2\\x88\\xec\\xbd\\x94\\xeb\\x93\\x9c><\\xec\\x95\\x84\\xed\\x8c\\x8c\\xed\\x8a\\xb8>\\xec\\x8b\\xa0\\xec\\xa0\\x95\\xeb\\xa7\\x88\\xec\\x9d\\x84\\xec\\x84\\xb1\\xec\\xa7\\x80</\\xec\\x95\\x84\\xed\\x8c\\x8c\\xed\\x8a\\xb8><\\xec\\x9b\\x94>3</\\xec\\x9b\\x94><\\xec\\x9d\\xbc>1</\\xec\\x9d\\xbc><\\xec\\x9d\\xbc\\xeb\\xa0\\xa8\\xeb\\xb2\\x88\\xed\\x98\\xb8>41465-20</\\xec\\x9d\\xbc\\xeb\\xa0\\xa8\\xeb\\xb2\\x88\\xed\\x98\\xb8><\\xec\\xa0\\x84\\xec\\x9a\\xa9\\xeb\\xa9\\xb4\\xec\\xa0\\x81>99.33</\\xec\\xa0\\x84\\xec\\x9a\\xa9\\xeb\\xa9\\xb4\\xec\\xa0\\x81><\\xec\\xa4\\x91\\xea\\xb0\\x9c\\xec\\x82\\xac\\xec\\x86\\x8c\\xec\\x9e\\xac\\xec\\xa7\\x80>\\xea\\xb2\\xbd\\xea\\xb8\\xb0 \\xec\\x9a\\xa9\\xec\\x9d\\xb8\\xec\\x88\\x98\\xec\\xa7\\x80\\xea\\xb5\\xac</\\xec\\xa4\\x91\\xea\\xb0\\x9c\\xec\\x82\\xac\\xec\\x86\\x8c\\xec\\x9e\\xac\\xec\\xa7\\x80><\\xec\\xa7\\x80\\xeb\\xb2\\x88>1021</\\xec\\xa7\\x80\\xeb\\xb2\\x88><\\xec\\xa7\\x80\\xec\\x97\\xad\\xec\\xbd\\x94\\xeb\\x93\\x9c>41465</\\xec\\xa7\\x80\\xec\\x97\\xad\\xec\\xbd\\x94\\xeb\\x93\\x9c><\\xec\\xb8\\xb5>18</\\xec\\xb8\\xb5><\\xed\\x95\\xb4\\xec\\xa0\\x9c\\xec\\x82\\xac\\xec\\x9c\\xa0\\xeb\\xb0\\x9c\\xec\\x83\\x9d\\xec\\x9d\\xbc> </\\xed\\x95\\xb4\\xec\\xa0\\x9c\\xec\\x82\\xac\\xec\\x9c\\xa0\\xeb\\xb0\\x9c\\xec\\x83\\x9d\\xec\\x9d\\xbc><\\xed\\x95\\xb4\\xec\\xa0\\x9c\\xec\\x97\\xac\\xeb\\xb6\\x80> </\\xed\\x95\\xb4\\xec\\xa0\\x9c\\xec\\x97\\xac\\xeb\\xb6\\x80></item><item><\\xea\\xb1\\xb0\\xeb\\x9e\\x98\\xea\\xb8\\x88\\xec\\x95\\xa1>    45,000</\\xea\\xb1\\xb0\\xeb\\x9e\\x98\\xea\\xb8\\x88\\xec\\x95\\xa1><\\xea\\xb1\\xb0\\xeb\\x9e\\x98\\xec\\x9c\\xa0\\xed\\x98\\x95>\\xec\\xa7\\x81\\xea\\xb1\\xb0\\xeb\\x9e\\x98</\\xea\\xb1\\xb0\\xeb\\x9e\\x98\\xec\\x9c\\xa0\\xed\\x98\\x95><\\xea\\xb1\\xb4\\xec\\xb6\\x95\\xeb\\x85\\x84\\xeb\\x8f\\x84>1999</\\xea\\xb1\\xb4\\xec\\xb6\\x95\\xeb\\x85\\x84\\xeb\\x8f\\x84><\\xeb\\x85\\x84>2023</\\xeb\\x85\\x84><\\xeb\\x8f\\x84\\xeb\\xa1\\x9c\\xeb\\xaa\\x85>\\xed\\x92\\x8d\\xeb\\x8d\\x95\\xec\\xb2\\x9c\\xeb\\xa1\\x9c</\\xeb\\x8f\\x84\\xeb\\xa1\\x9c\\xeb\\xaa\\x85><\\xeb\\x8f\\x84\\xeb\\xa1\\x9c\\xeb\\xaa\\x85\\xea\\xb1\\xb4\\xeb\\xac\\xbc\\xeb\\xb3\\xb8\\xeb\\xb2\\x88\\xed\\x98\\xb8\\xec\\xbd\\x94\\xeb\\x93\\x9c>00052</\\xeb\\x8f\\x84\\xeb\\xa1\\x9c\\xeb\\xaa\\x85\\xea\\xb1\\xb4\\xeb\\xac\\xbc\\xeb\\xb3\\xb8\\xeb\\xb2\\x88\\xed\\x98\\xb8\\xec\\xbd\\x94\\xeb\\x93\\x9c><\\xeb\\x8f\\x84\\xeb\\xa1\\x9c\\xeb\\xaa\\x85\\xea\\xb1\\xb4\\xeb\\xac\\xbc\\xeb\\xb6\\x80\\xeb\\xb2\\x88\\xed\\x98\\xb8\\xec\\xbd\\x94\\xeb\\x93\\x9c>00000</\\xeb\\x8f\\x84\\xeb\\xa1\\x9c\\xeb\\xaa\\x85\\xea\\xb1\\xb4\\xeb\\xac\\xbc\\xeb\\xb6\\x80\\xeb\\xb2\\x88\\xed\\x98\\xb8\\xec\\xbd\\x94\\xeb\\x93\\x9c><\\xeb\\x8f\\x84\\xeb\\xa1\\x9c\\xeb\\xaa\\x85\\xec\\x8b\\x9c\\xea\\xb5\\xb0\\xea\\xb5\\xac\\xec\\xbd\\x94\\xeb\\x93\\x9c>41465</\\xeb\\x8f\\x84\\xeb\\xa1\\x9c\\xeb\\xaa\\x85\\xec\\x8b\\x9c\\xea\\xb5\\xb0\\xea\\xb5\\xac\\xec\\xbd\\x94\\xeb\\x93\\x9c><\\xeb\\x8f\\x84\\xeb\\xa1\\x9c\\xeb\\xaa\\x85\\xec\\x9d\\xbc\\xeb\\xa0\\xa8\\xeb\\xb2\\x88\\xed\\x98\\xb8\\xec\\xbd\\x94\\xeb\\x93\\x9c>01</\\xeb\\x8f\\x84\\xeb\\xa1\\x9c\\xeb\\xaa\\x85\\xec\\x9d\\xbc\\xeb\\xa0\\xa8\\xeb\\xb2\\x88\\xed\\x98\\xb8\\xec\\xbd\\x94\\xeb\\x93\\x9c><\\xeb\\x8f\\x84\\xeb\\xa1\\x9c\\xeb\\xaa\\x85\\xec\\xa7\\x80\\xec\\x83\\x81\\xec\\xa7\\x80\\xed\\x95\\x98\\xec\\xbd\\x94\\xeb\\x93\\x9c>0</\\xeb\\x8f\\x84\\xeb\\xa1\\x9c\\xeb\\xaa\\x85\\xec\\xa7\\x80\\xec\\x83\\x81\\xec\\xa7\\x80\\xed\\x95\\x98\\xec\\xbd\\x94\\xeb\\x93\\x9c><\\xeb\\x8f\\x84\\xeb\\xa1\\x9c\\xeb\\xaa\\x85\\xec\\xbd\\x94\\xeb\\x93\\x9c>3205021</\\xeb\\x8f\\x84\\xeb\\xa1\\x9c\\xeb\\xaa\\x85\\xec\\xbd\\x94\\xeb\\x93\\x9c><\\xeb\\xb2\\x95\\xec\\xa0\\x95\\xeb\\x8f\\x99> \\xed\\x92\\x8d\\xeb\\x8d\\x95\\xec\\xb2\\x9c\\xeb\\x8f\\x99</\\xeb\\xb2\\x95\\xec\\xa0\\x95\\xeb\\x8f\\x99><\\xeb\\xb2\\x95\\xec\\xa0\\x95\\xeb\\x8f\\x99\\xeb\\xb3\\xb8\\xeb\\xb2\\x88\\xec\\xbd\\x94\\xeb\\x93\\x9c>1112</\\xeb\\xb2\\x95\\xec\\xa0\\x95\\xeb\\x8f\\x99\\xeb\\xb3\\xb8\\xeb\\xb2\\x88\\xec\\xbd\\x94\\xeb\\x93\\x9c><\\xeb\\xb2\\x95\\xec\\xa0\\x95\\xeb\\x8f\\x99\\xeb\\xb6\\x80\\xeb\\xb2\\x88\\xec\\xbd\\x94\\xeb\\x93\\x9c>0000</\\xeb\\xb2\\x95\\xec\\xa0\\x95\\xeb\\x8f\\x99\\xeb\\xb6\\x80\\xeb\\xb2\\x88\\xec\\xbd\\x94\\xeb\\x93\\x9c><\\xeb\\xb2\\x95\\xec\\xa0\\x95\\xeb\\x8f\\x99\\xec\\x8b\\x9c\\xea\\xb5\\xb0\\xea\\xb5\\xac\\xec\\xbd\\x94\\xeb\\x93\\x9c>41465</\\xeb\\xb2\\x95\\xec\\xa0\\x95\\xeb\\x8f\\x99\\xec\\x8b\\x9c\\xea\\xb5\\xb0\\xea\\xb5\\xac\\xec\\xbd\\x94\\xeb\\x93\\x9c><\\xeb\\xb2\\x95\\xec\\xa0\\x95\\xeb\\x8f\\x99\\xec\\x9d\\x8d\\xeb\\xa9\\xb4\\xeb\\x8f\\x99\\xec\\xbd\\x94\\xeb\\x93\\x9c>10100</\\xeb\\xb2\\x95\\xec\\xa0\\x95\\xeb\\x8f\\x99\\xec\\x9d\\x8d\\xeb\\xa9\\xb4\\xeb\\x8f\\x99\\xec\\xbd\\x94\\xeb\\x93\\x9c><\\xeb\\xb2\\x95\\xec\\xa0\\x95\\xeb\\x8f\\x99\\xec\\xa7\\x80\\xeb\\xb2\\x88\\xec\\xbd\\x94\\xeb\\x93\\x9c>1</\\xeb\\xb2\\x95\\xec\\xa0\\x95\\xeb\\x8f\\x99\\xec\\xa7\\x80\\xeb\\xb2\\x88\\xec\\xbd\\x94\\xeb\\x93\\x9c><\\xec\\x95\\x84\\xed\\x8c\\x8c\\xed\\x8a\\xb8>\\xed\\x98\\x84\\xeb\\x8c\\x80\\xec\\x84\\xb1\\xec\\x9a\\xb08\\xec\\xb0\\xa8</\\xec\\x95\\x84\\xed\\x8c\\x8c\\xed\\x8a\\xb8><\\xec\\x9b\\x94>3</\\xec\\x9b\\x94><\\xec\\x9d\\xbc>1</\\xec\\x9d\\xbc><\\xec\\x9d\\xbc\\xeb\\xa0\\xa8\\xeb\\xb2\\x88\\xed\\x98\\xb8>41465-19</\\xec\\x9d\\xbc\\xeb\\xa0\\xa8\\xeb\\xb2\\x88\\xed\\x98\\xb8><\\xec\\xa0\\x84\\xec\\x9a\\xa9\\xeb\\xa9\\xb4\\xec\\xa0\\x81>59.99</\\xec\\xa0\\x84\\xec\\x9a\\xa9\\xeb\\xa9\\xb4\\xec\\xa0\\x81><\\xec\\xa4\\x91\\xea\\xb0\\x9c\\xec\\x82\\xac\\xec\\x86\\x8c\\xec\\x9e\\xac\\xec\\xa7\\x80> </\\xec\\xa4\\x91\\xea\\xb0\\x9c\\xec\\x82\\xac\\xec\\x86\\x8c\\xec\\x9e\\xac\\xec\\xa7\\x80><\\xec\\xa7\\x80\\xeb\\xb2\\x88>1112</\\xec\\xa7\\x80\\xeb\\xb2\\x88><\\xec\\xa7\\x80\\xec\\x97\\xad\\xec\\xbd\\x94\\xeb\\x93\\x9c>41465</\\xec\\xa7\\x80\\xec\\x97\\xad\\xec\\xbd\\x94\\xeb\\x93\\x9c><\\xec\\xb8\\xb5>12</\\xec\\xb8\\xb5><\\xed\\x95\\xb4\\xec\\xa0\\x9c\\xec\\x82\\xac\\xec\\x9c\\xa0\\xeb\\xb0\\x9c\\xec\\x83\\x9d\\xec\\x9d\\xbc> </\\xed\\x95\\xb4\\xec\\xa0\\x9c\\xec\\x82\\xac\\xec\\x9c\\xa0\\xeb\\xb0\\x9c\\xec\\x83\\x9d\\xec\\x9d\\xbc><\\xed\\x95\\xb4\\xec\\xa0\\x9c\\xec\\x97\\xac\\xeb\\xb6\\x80> </\\xed\\x95\\xb4\\xec\\xa0\\x9c\\xec\\x97\\xac\\xeb\\xb6\\x80></item><item><\\xea\\xb1\\xb0\\xeb\\x9e\\x98\\xea\\xb8\\x88\\xec\\x95\\xa1>    80,000</\\xea\\xb1\\xb0\\xeb\\x9e\\x98\\xea\\xb8\\x88\\xec\\x95\\xa1><\\xea\\xb1\\xb0\\xeb\\x9e\\x98\\xec\\x9c\\xa0\\xed\\x98\\x95>\\xec\\xa4\\x91\\xea\\xb0\\x9c\\xea\\xb1\\xb0\\xeb\\x9e\\x98</\\xea\\xb1\\xb0\\xeb\\x9e\\x98\\xec\\x9c\\xa0\\xed\\x98\\x95><\\xea\\xb1\\xb4\\xec\\xb6\\x95\\xeb\\x85\\x84\\xeb\\x8f\\x84>2000</\\xea\\xb1\\xb4\\xec\\xb6\\x95\\xeb\\x85\\x84\\xeb\\x8f\\x84><\\xeb\\x85\\x84>2023</\\xeb\\x85\\x84><\\xeb\\x8f\\x84\\xeb\\xa1\\x9c\\xeb\\xaa\\x85>\\xec\\xa0\\x95\\xed\\x8f\\x89\\xeb\\xa1\\x9c</\\xeb\\x8f\\x84\\xeb\\xa1\\x9c\\xeb\\xaa\\x85><\\xeb\\x8f\\x84\\xeb\\xa1\\x9c\\xeb\\xaa\\x85\\xea\\xb1\\xb4\\xeb\\xac\\xbc\\xeb\\xb3\\xb8\\xeb\\xb2\\x88\\xed\\x98\\xb8\\xec\\xbd\\x94\\xeb\\x93\\x9c>00073</\\xeb\\x8f\\x84\\xeb\\xa1\\x9c\\xeb\\xaa\\x85\\xea\\xb1\\xb4\\xeb\\xac\\xbc\\xeb\\xb3\\xb8\\xeb\\xb2\\x88\\xed\\x98\\xb8\\xec\\xbd\\x94\\xeb\\x93\\x9c><\\xeb\\x8f\\x84\\xeb\\xa1\\x9c\\xeb\\xaa\\x85\\xea\\xb1\\xb4\\xeb\\xac\\xbc\\xeb\\xb6\\x80\\xeb\\xb2\\x88\\xed\\x98\\xb8\\xec\\xbd\\x94\\xeb\\x93\\x9c>00000</\\xeb\\x8f\\x84\\xeb\\xa1\\x9c\\xeb\\xaa\\x85\\xea\\xb1\\xb4\\xeb\\xac\\xbc\\xeb\\xb6\\x80\\xeb\\xb2\\x88\\xed\\x98\\xb8\\xec\\xbd\\x94\\xeb\\x93\\x9c><\\xeb\\x8f\\x84\\xeb\\xa1\\x9c\\xeb\\xaa\\x85\\xec\\x8b\\x9c\\xea\\xb5\\xb0\\xea\\xb5\\xac\\xec\\xbd\\x94\\xeb\\x93\\x9c>41465</\\xeb\\x8f\\x84\\xeb\\xa1\\x9c\\xeb\\xaa\\x85\\xec\\x8b\\x9c\\xea\\xb5\\xb0\\xea\\xb5\\xac\\xec\\xbd\\x94\\xeb\\x93\\x9c><\\xeb\\x8f\\x84\\xeb\\xa1\\x9c\\xeb\\xaa\\x85\\xec\\x9d\\xbc\\xeb\\xa0\\xa8\\xeb\\xb2\\x88\\xed\\x98\\xb8\\xec\\xbd\\x94\\xeb\\x93\\x9c>00</\\xeb\\x8f\\x84\\xeb\\xa1\\x9c\\xeb\\xaa\\x85\\xec\\x9d\\xbc\\xeb\\xa0\\xa8\\xeb\\xb2\\x88\\xed\\x98\\xb8\\xec\\xbd\\x94\\xeb\\x93\\x9c><\\xeb\\x8f\\x84\\xeb\\xa1\\x9c\\xeb\\xaa\\x85\\xec\\xbd\\x94\\xeb\\x93\\x9c>3205018</\\xeb\\x8f\\x84\\xeb\\xa1\\x9c\\xeb\\xaa\\x85\\xec\\xbd\\x94\\xeb\\x93\\x9c><\\xeb\\xb2\\x95\\xec\\xa0\\x95\\xeb\\x8f\\x99> \\xed\\x92\\x8d\\xeb\\x8d\\x95\\xec\\xb2\\x9c\\xeb\\x8f\\x99</\\xeb\\xb2\\x95\\xec\\xa0\\x95\\xeb\\x8f\\x99><\\xeb\\xb2\\x95\\xec\\xa0\\x95\\xeb\\x8f\\x99\\xeb\\xb3\\xb8\\xeb\\xb2\\x88\\xec\\xbd\\x94\\xeb\\x93\\x9c>1018</\\xeb\\xb2\\x95\\xec\\xa0\\x95\\xeb\\x8f\\x99\\xeb\\xb3\\xb8\\xeb\\xb2\\x88\\xec\\xbd\\x94\\xeb\\x93\\x9c><\\xeb\\xb2\\x95\\xec\\xa0\\x95\\xeb\\x8f\\x99\\xeb\\xb6\\x80\\xeb\\xb2\\x88\\xec\\xbd\\x94\\xeb\\x93\\x9c>0000</\\xeb\\xb2\\x95\\xec\\xa0\\x95\\xeb\\x8f\\x99\\xeb\\xb6\\x80\\xeb\\xb2\\x88\\xec\\xbd\\x94\\xeb\\x93\\x9c><\\xeb\\xb2\\x95\\xec\\xa0\\x95\\xeb\\x8f\\x99\\xec\\x8b\\x9c\\xea\\xb5\\xb0\\xea\\xb5\\xac\\xec\\xbd\\x94\\xeb\\x93\\x9c>41465</\\xeb\\xb2\\x95\\xec\\xa0\\x95\\xeb\\x8f\\x99\\xec\\x8b\\x9c\\xea\\xb5\\xb0\\xea\\xb5\\xac\\xec\\xbd\\x94\\xeb\\x93\\x9c><\\xeb\\xb2\\x95\\xec\\xa0\\x95\\xeb\\x8f\\x99\\xec\\x9d\\x8d\\xeb\\xa9\\xb4\\xeb\\x8f\\x99\\xec\\xbd\\x94\\xeb\\x93\\x9c>10100</\\xeb\\xb2\\x95\\xec\\xa0\\x95\\xeb\\x8f\\x99\\xec\\x9d\\x8d\\xeb\\xa9\\xb4\\xeb\\x8f\\x99\\xec\\xbd\\x94\\xeb\\x93\\x9c><\\xeb\\xb2\\x95\\xec\\xa0\\x95\\xeb\\x8f\\x99\\xec\\xa7\\x80\\xeb\\xb2\\x88\\xec\\xbd\\x94\\xeb\\x93\\x9c>1</\\xeb\\xb2\\x95\\xec\\xa0\\x95\\xeb\\x8f\\x99\\xec\\xa7\\x80\\xeb\\xb2\\x88\\xec\\xbd\\x94\\xeb\\x93\\x9c><\\xec\\x95\\x84\\xed\\x8c\\x8c\\xed\\x8a\\xb8>\\xec\\x8b\\xa0\\xec\\xa0\\x95\\xeb\\xa7\\x88\\xec\\x9d\\x84\\xec\\x9e\\x84\\xea\\xb4\\x91</\\xec\\x95\\x84\\xed\\x8c\\x8c\\xed\\x8a\\xb8><\\xec\\x9b\\x94>3</\\xec\\x9b\\x94><\\xec\\x9d\\xbc>2</\\xec\\x9d\\xbc><\\xec\\x9d\\xbc\\xeb\\xa0\\xa8\\xeb\\xb2\\x88\\xed\\x98\\xb8>41465-22</\\xec\\x9d\\xbc\\xeb\\xa0\\xa8\\xeb\\xb2\\x88\\xed\\x98\\xb8><\\xec\\xa0\\x84\\xec\\x9a\\xa9\\xeb\\xa9\\xb4\\xec\\xa0\\x81>101.647</\\xec\\xa0\\x84\\xec\\x9a\\xa9\\xeb\\xa9\\xb4\\xec\\xa0\\x81><\\xec\\xa4\\x91\\xea\\xb0\\x9c\\xec\\x82\\xac\\xec\\x86\\x8c\\xec\\x9e\\xac\\xec\\xa7\\x80>\\xea\\xb2\\xbd\\xea\\xb8\\xb0 \\xec\\x9a\\xa9\\xec\\x9d\\xb8\\xec\\x88\\x98\\xec\\xa7\\x80\\xea\\xb5\\xac</\\xec\\xa4\\x91\\xea\\xb0\\x9c\\xec\\x82\\xac\\xec\\x86\\x8c\\xec\\x9e\\xac\\xec\\xa7\\x80><\\xec\\xa7\\x80\\xeb\\xb2\\x88>1018</\\xec\\xa7\\x80\\xeb\\xb2\\x88><\\xec\\xa7\\x80\\xec\\x97\\xad\\xec\\xbd\\x94\\xeb\\x93\\x9c>41465</\\xec\\xa7\\x80\\xec\\x97\\xad\\xec\\xbd\\x94\\xeb\\x93\\x9c><\\xec\\xb8\\xb5>16</\\xec\\xb8\\xb5><\\xed\\x95\\xb4\\xec\\xa0\\x9c\\xec\\x82\\xac\\xec\\x9c\\xa0\\xeb\\xb0\\x9c\\xec\\x83\\x9d\\xec\\x9d\\xbc> </\\xed\\x95\\xb4\\xec\\xa0\\x9c\\xec\\x82\\xac\\xec\\x9c\\xa0\\xeb\\xb0\\x9c\\xec\\x83\\x9d\\xec\\x9d\\xbc><\\xed\\x95\\xb4\\xec\\xa0\\x9c\\xec\\x97\\xac\\xeb\\xb6\\x80> </\\xed\\x95\\xb4\\xec\\xa0\\x9c\\xec\\x97\\xac\\xeb\\xb6\\x80></item><item><\\xea\\xb1\\xb0\\xeb\\x9e\\x98\\xea\\xb8\\x88\\xec\\x95\\xa1>    62,300</\\xea\\xb1\\xb0\\xeb\\x9e\\x98\\xea\\xb8\\x88\\xec\\x95\\xa1><\\xea\\xb1\\xb0\\xeb\\x9e\\x98\\xec\\x9c\\xa0\\xed\\x98\\x95>\\xec\\xa4\\x91\\xea\\xb0\\x9c\\xea\\xb1\\xb0\\xeb\\x9e\\x98</\\xea\\xb1\\xb0\\xeb\\x9e\\x98\\xec\\x9c\\xa0\\xed\\x98\\x95><\\xea\\xb1\\xb4\\xec\\xb6\\x95\\xeb\\x85\\x84\\xeb\\x8f\\x84>2000</\\xea\\xb1\\xb4\\xec\\xb6\\x95\\xeb\\x85\\x84\\xeb\\x8f\\x84><\\xeb\\x85\\x84>2023</\\xeb\\x85\\x84><\\xeb\\x8f\\x84\\xeb\\xa1\\x9c\\xeb\\xaa\\x85>\\xed\\x92\\x8d\\xeb\\x8d\\x95\\xec\\xb2\\x9c\\xeb\\xa1\\x9c</\\xeb\\x8f\\x84\\xeb\\xa1\\x9c\\xeb\\xaa\\x85><\\xeb\\x8f\\x84\\xeb\\xa1\\x9c\\xeb\\xaa\\x85\\xea\\xb1\\xb4\\xeb\\xac\\xbc\\xeb\\xb3\\xb8\\xeb\\xb2\\x88\\xed\\x98\\xb8\\xec\\xbd\\x94\\xeb\\x93\\x9c>00091</\\xeb\\x8f\\x84\\xeb\\xa1\\x9c\\xeb\\xaa\\x85\\xea\\xb1\\xb4\\xeb\\xac\\xbc\\xeb\\xb3\\xb8\\xeb\\xb2\\x88\\xed\\x98\\xb8\\xec\\xbd\\x94\\xeb\\x93\\x9c><\\xeb\\x8f\\x84\\xeb\\xa1\\x9c\\xeb\\xaa\\x85\\xea\\xb1\\xb4\\xeb\\xac\\xbc\\xeb\\xb6\\x80\\xeb\\xb2\\x88\\xed\\x98\\xb8\\xec\\xbd\\x94\\xeb\\x93\\x9c>00000</\\xeb\\x8f\\x84\\xeb\\xa1\\x9c\\xeb\\xaa\\x85\\xea\\xb1\\xb4\\xeb\\xac\\xbc\\xeb\\xb6\\x80\\xeb\\xb2\\x88\\xed\\x98\\xb8\\xec\\xbd\\x94\\xeb\\x93\\x9c><\\xeb\\x8f\\x84\\xeb\\xa1\\x9c\\xeb\\xaa\\x85\\xec\\x8b\\x9c\\xea\\xb5\\xb0\\xea\\xb5\\xac\\xec\\xbd\\x94\\xeb\\x93\\x9c>41465</\\xeb\\x8f\\x84\\xeb\\xa1\\x9c\\xeb\\xaa\\x85\\xec\\x8b\\x9c\\xea\\xb5\\xb0\\xea\\xb5\\xac\\xec\\xbd\\x94\\xeb\\x93\\x9c><\\xeb\\x8f\\x84\\xeb\\xa1\\x9c\\xeb\\xaa\\x85\\xec\\x9d\\xbc\\xeb\\xa0\\xa8\\xeb\\xb2\\x88\\xed\\x98\\xb8\\xec\\xbd\\x94\\xeb\\x93\\x9c>01</\\xeb\\x8f\\x84\\xeb\\xa1\\x9c\\xeb\\xaa\\x85\\xec\\x9d\\xbc\\xeb\\xa0\\xa8\\xeb\\xb2\\x88\\xed\\x98\\xb8\\xec\\xbd\\x94\\xeb\\x93\\x9c><\\xeb\\x8f\\x84\\xeb\\xa1\\x9c\\xeb\\xaa\\x85\\xec\\xa7\\x80\\xec\\x83\\x81\\xec\\xa7\\x80\\xed\\x95\\x98\\xec\\xbd\\x94\\xeb\\x93\\x9c>0</\\xeb\\x8f\\x84\\xeb\\xa1\\x9c\\xeb\\xaa\\x85\\xec\\xa7\\x80\\xec\\x83\\x81\\xec\\xa7\\x80\\xed\\x95\\x98\\xec\\xbd\\x94\\xeb\\x93\\x9c><\\xeb\\x8f\\x84\\xeb\\xa1\\x9c\\xeb\\xaa\\x85\\xec\\xbd\\x94\\xeb\\x93\\x9c>3205021</\\xeb\\x8f\\x84\\xeb\\xa1\\x9c\\xeb\\xaa\\x85\\xec\\xbd\\x94\\xeb\\x93\\x9c><\\xeb\\xb2\\x95\\xec\\xa0\\x95\\xeb\\x8f\\x99> \\xed\\x92\\x8d\\xeb\\x8d\\x95\\xec\\xb2\\x9c\\xeb\\x8f\\x99</\\xeb\\xb2\\x95\\xec\\xa0\\x95\\xeb\\x8f\\x99><\\xeb\\xb2\\x95\\xec\\xa0\\x95\\xeb\\x8f\\x99\\xeb\\xb3\\xb8\\xeb\\xb2\\x88\\xec\\xbd\\x94\\xeb\\x93\\x9c>1065</\\xeb\\xb2\\x95\\xec\\xa0\\x95\\xeb\\x8f\\x99\\xeb\\xb3\\xb8\\xeb\\xb2\\x88\\xec\\xbd\\x94\\xeb\\x93\\x9c><\\xeb\\xb2\\x95\\xec\\xa0\\x95\\xeb\\x8f\\x99\\xeb\\xb6\\x80\\xeb\\xb2\\x88\\xec\\xbd\\x94\\xeb\\x93\\x9c>0000</\\xeb\\xb2\\x95\\xec\\xa0\\x95\\xeb\\x8f\\x99\\xeb\\xb6\\x80\\xeb\\xb2\\x88\\xec\\xbd\\x94\\xeb\\x93\\x9c><\\xeb\\xb2\\x95\\xec\\xa0\\x95\\xeb\\x8f\\x99\\xec\\x8b\\x9c\\xea\\xb5\\xb0\\xea\\xb5\\xac\\xec\\xbd\\x94\\xeb\\x93\\x9c>41465</\\xeb\\xb2\\x95\\xec\\xa0\\x95\\xeb\\x8f\\x99\\xec\\x8b\\x9c\\xea\\xb5\\xb0\\xea\\xb5\\xac\\xec\\xbd\\x94\\xeb\\x93\\x9c><\\xeb\\xb2\\x95\\xec\\xa0\\x95\\xeb\\x8f\\x99\\xec\\x9d\\x8d\\xeb\\xa9\\xb4\\xeb\\x8f\\x99\\xec\\xbd\\x94\\xeb\\x93\\x9c>10100</\\xeb\\xb2\\x95\\xec\\xa0\\x95\\xeb\\x8f\\x99\\xec\\x9d\\x8d\\xeb\\xa9\\xb4\\xeb\\x8f\\x99\\xec\\xbd\\x94\\xeb\\x93\\x9c><\\xeb\\xb2\\x95\\xec\\xa0\\x95\\xeb\\x8f\\x99\\xec\\xa7\\x80\\xeb\\xb2\\x88\\xec\\xbd\\x94\\xeb\\x93\\x9c>1</\\xeb\\xb2\\x95\\xec\\xa0\\x95\\xeb\\x8f\\x99\\xec\\xa7\\x80\\xeb\\xb2\\x88\\xec\\xbd\\x94\\xeb\\x93\\x9c><\\xec\\x95\\x84\\xed\\x8c\\x8c\\xed\\x8a\\xb8>\\xec\\x8b\\xa0\\xec\\xa0\\x95\\xeb\\xa7\\x88\\xec\\x9d\\x84\\xec\\xa3\\xbc\\xea\\xb3\\xb51</\\xec\\x95\\x84\\xed\\x8c\\x8c\\xed\\x8a\\xb8><\\xec\\x9b\\x94>3</\\xec\\x9b\\x94><\\xec\\x9d\\xbc>2</\\xec\\x9d\\xbc><\\xec\\x9d\\xbc\\xeb\\xa0\\xa8\\xeb\\xb2\\x88\\xed\\x98\\xb8>41465-23</\\xec\\x9d\\xbc\\xeb\\xa0\\xa8\\xeb\\xb2\\x88\\xed\\x98\\xb8><\\xec\\xa0\\x84\\xec\\x9a\\xa9\\xeb\\xa9\\xb4\\xec\\xa0\\x81>59.34</\\xec\\xa0\\x84\\xec\\x9a\\xa9\\xeb\\xa9\\xb4\\xec\\xa0\\x81><\\xec\\xa4\\x91\\xea\\xb0\\x9c\\xec\\x82\\xac\\xec\\x86\\x8c\\xec\\x9e\\xac\\xec\\xa7\\x80>\\xea\\xb2\\xbd\\xea\\xb8\\xb0 \\xec\\x9a\\xa9\\xec\\x9d\\xb8\\xec\\x88\\x98\\xec\\xa7\\x80\\xea\\xb5\\xac</\\xec\\xa4\\x91\\xea\\xb0\\x9c\\xec\\x82\\xac\\xec\\x86\\x8c\\xec\\x9e\\xac\\xec\\xa7\\x80><\\xec\\xa7\\x80\\xeb\\xb2\\x88>1065</\\xec\\xa7\\x80\\xeb\\xb2\\x88><\\xec\\xa7\\x80\\xec\\x97\\xad\\xec\\xbd\\x94\\xeb\\x93\\x9c>41465</\\xec\\xa7\\x80\\xec\\x97\\xad\\xec\\xbd\\x94\\xeb\\x93\\x9c><\\xec\\xb8\\xb5>18</\\xec\\xb8\\xb5><\\xed\\x95\\xb4\\xec\\xa0\\x9c\\xec\\x82\\xac\\xec\\x9c\\xa0\\xeb\\xb0\\x9c\\xec\\x83\\x9d\\xec\\x9d\\xbc> </\\xed\\x95\\xb4\\xec\\xa0\\x9c\\xec\\x82\\xac\\xec\\x9c\\xa0\\xeb\\xb0\\x9c\\xec\\x83\\x9d\\xec\\x9d\\xbc><\\xed\\x95\\xb4\\xec\\xa0\\x9c\\xec\\x97\\xac\\xeb\\xb6\\x80> </\\xed\\x95\\xb4\\xec\\xa0\\x9c\\xec\\x97\\xac\\xeb\\xb6\\x80></item><item><\\xea\\xb1\\xb0\\xeb\\x9e\\x98\\xea\\xb8\\x88\\xec\\x95\\xa1>    52,700</\\xea\\xb1\\xb0\\xeb\\x9e\\x98\\xea\\xb8\\x88\\xec\\x95\\xa1><\\xea\\xb1\\xb0\\xeb\\x9e\\x98\\xec\\x9c\\xa0\\xed\\x98\\x95>\\xec\\xa4\\x91\\xea\\xb0\\x9c\\xea\\xb1\\xb0\\xeb\\x9e\\x98</\\xea\\xb1\\xb0\\xeb\\x9e\\x98\\xec\\x9c\\xa0\\xed\\x98\\x95><\\xea\\xb1\\xb4\\xec\\xb6\\x95\\xeb\\x85\\x84\\xeb\\x8f\\x84>1994</\\xea\\xb1\\xb4\\xec\\xb6\\x95\\xeb\\x85\\x84\\xeb\\x8f\\x84><\\xeb\\x85\\x84>2023</\\xeb\\x85\\x84><\\xeb\\x8f\\x84\\xeb\\xa1\\x9c\\xeb\\xaa\\x85>\\xec\\x88\\x98\\xed\\x92\\x8d\\xeb\\xa1\\x9c</\\xeb\\x8f\\x84\\xeb\\xa1\\x9c\\xeb\\xaa\\x85><\\xeb\\x8f\\x84\\xeb\\xa1\\x9c\\xeb\\xaa\\x85\\xea\\xb1\\xb4\\xeb\\xac\\xbc\\xeb\\xb3\\xb8\\xeb\\xb2\\x88\\xed\\x98\\xb8\\xec\\xbd\\x94\\xeb\\x93\\x9c>00090</\\xeb\\x8f\\x84\\xeb\\xa1\\x9c\\xeb\\xaa\\x85\\xea\\xb1\\xb4\\xeb\\xac\\xbc\\xeb\\xb3\\xb8\\xeb\\xb2\\x88\\xed\\x98\\xb8\\xec\\xbd\\x94\\xeb\\x93\\x9c><\\xeb\\x8f\\x84\\xeb\\xa1\\x9c\\xeb\\xaa\\x85\\xea\\xb1\\xb4\\xeb\\xac\\xbc\\xeb\\xb6\\x80\\xeb\\xb2\\x88\\xed\\x98\\xb8\\xec\\xbd\\x94\\xeb\\x93\\x9c>00000</\\xeb\\x8f\\x84\\xeb\\xa1\\x9c\\xeb\\xaa\\x85\\xea\\xb1\\xb4\\xeb\\xac\\xbc\\xeb\\xb6\\x80\\xeb\\xb2\\x88\\xed\\x98\\xb8\\xec\\xbd\\x94\\xeb\\x93\\x9c><\\xeb\\x8f\\x84\\xeb\\xa1\\x9c\\xeb\\xaa\\x85\\xec\\x8b\\x9c\\xea\\xb5\\xb0\\xea\\xb5\\xac\\xec\\xbd\\x94\\xeb\\x93\\x9c>41465</\\xeb\\x8f\\x84\\xeb\\xa1\\x9c\\xeb\\xaa\\x85\\xec\\x8b\\x9c\\xea\\xb5\\xb0\\xea\\xb5\\xac\\xec\\xbd\\x94\\xeb\\x93\\x9c><\\xeb\\x8f\\x84\\xeb\\xa1\\x9c\\xeb\\xaa\\x85\\xec\\x9d\\xbc\\xeb\\xa0\\xa8\\xeb\\xb2\\x88\\xed\\x98\\xb8\\xec\\xbd\\x94\\xeb\\x93\\x9c>01</\\xeb\\x8f\\x84\\xeb\\xa1\\x9c\\xeb\\xaa\\x85\\xec\\x9d\\xbc\\xeb\\xa0\\xa8\\xeb\\xb2\\x88\\xed\\x98\\xb8\\xec\\xbd\\x94\\xeb\\x93\\x9c><\\xeb\\x8f\\x84\\xeb\\xa1\\x9c\\xeb\\xaa\\x85\\xec\\xa7\\x80\\xec\\x83\\x81\\xec\\xa7\\x80\\xed\\x95\\x98\\xec\\xbd\\x94\\xeb\\x93\\x9c>0</\\xeb\\x8f\\x84\\xeb\\xa1\\x9c\\xeb\\xaa\\x85\\xec\\xa7\\x80\\xec\\x83\\x81\\xec\\xa7\\x80\\xed\\x95\\x98\\xec\\xbd\\x94\\xeb\\x93\\x9c><\\xeb\\x8f\\x84\\xeb\\xa1\\x9c\\xeb\\xaa\\x85\\xec\\xbd\\x94\\xeb\\x93\\x9c>3205013</\\xeb\\x8f\\x84\\xeb\\xa1\\x9c\\xeb\\xaa\\x85\\xec\\xbd\\x94\\xeb\\x93\\x9c><\\xeb\\xb2\\x95\\xec\\xa0\\x95\\xeb\\x8f\\x99> \\xed\\x92\\x8d\\xeb\\x8d\\x95\\xec\\xb2\\x9c\\xeb\\x8f\\x99</\\xeb\\xb2\\x95\\xec\\xa0\\x95\\xeb\\x8f\\x99><\\xeb\\xb2\\x95\\xec\\xa0\\x95\\xeb\\x8f\\x99\\xeb\\xb3\\xb8\\xeb\\xb2\\x88\\xec\\xbd\\x94\\xeb\\x93\\x9c>0663</\\xeb\\xb2\\x95\\xec\\xa0\\x95\\xeb\\x8f\\x99\\xeb\\xb3\\xb8\\xeb\\xb2\\x88\\xec\\xbd\\x94\\xeb\\x93\\x9c><\\xeb\\xb2\\x95\\xec\\xa0\\x95\\xeb\\x8f\\x99\\xeb\\xb6\\x80\\xeb\\xb2\\x88\\xec\\xbd\\x94\\xeb\\x93\\x9c>0001</\\xeb\\xb2\\x95\\xec\\xa0\\x95\\xeb\\x8f\\x99\\xeb\\xb6\\x80\\xeb\\xb2\\x88\\xec\\xbd\\x94\\xeb\\x93\\x9c><\\xeb\\xb2\\x95\\xec\\xa0\\x95\\xeb\\x8f\\x99\\xec\\x8b\\x9c\\xea\\xb5\\xb0\\xea\\xb5\\xac\\xec\\xbd\\x94\\xeb\\x93\\x9c>41465</\\xeb\\xb2\\x95\\xec\\xa0\\x95\\xeb\\x8f\\x99\\xec\\x8b\\x9c\\xea\\xb5\\xb0\\xea\\xb5\\xac\\xec\\xbd\\x94\\xeb\\x93\\x9c><\\xeb\\xb2\\x95\\xec\\xa0\\x95\\xeb\\x8f\\x99\\xec\\x9d\\x8d\\xeb\\xa9\\xb4\\xeb\\x8f\\x99\\xec\\xbd\\x94\\xeb\\x93\\x9c>10100</\\xeb\\xb2\\x95\\xec\\xa0\\x95\\xeb\\x8f\\x99\\xec\\x9d\\x8d\\xeb\\xa9\\xb4\\xeb\\x8f\\x99\\xec\\xbd\\x94\\xeb\\x93\\x9c><\\xeb\\xb2\\x95\\xec\\xa0\\x95\\xeb\\x8f\\x99\\xec\\xa7\\x80\\xeb\\xb2\\x88\\xec\\xbd\\x94\\xeb\\x93\\x9c>1</\\xeb\\xb2\\x95\\xec\\xa0\\x95\\xeb\\x8f\\x99\\xec\\xa7\\x80\\xeb\\xb2\\x88\\xec\\xbd\\x94\\xeb\\x93\\x9c><\\xec\\x95\\x84\\xed\\x8c\\x8c\\xed\\x8a\\xb8>\\xec\\x88\\x98\\xec\\xa7\\x80\\xec\\x82\\xbc\\xec\\x84\\xb14\\xec\\xb0\\xa8</\\xec\\x95\\x84\\xed\\x8c\\x8c\\xed\\x8a\\xb8><\\xec\\x9b\\x94>3</\\xec\\x9b\\x94><\\xec\\x9d\\xbc>3</\\xec\\x9d\\xbc><\\xec\\x9d\\xbc\\xeb\\xa0\\xa8\\xeb\\xb2\\x88\\xed\\x98\\xb8>41465-11</\\xec\\x9d\\xbc\\xeb\\xa0\\xa8\\xeb\\xb2\\x88\\xed\\x98\\xb8><\\xec\\xa0\\x84\\xec\\x9a\\xa9\\xeb\\xa9\\xb4\\xec\\xa0\\x81>59.76</\\xec\\xa0\\x84\\xec\\x9a\\xa9\\xeb\\xa9\\xb4\\xec\\xa0\\x81><\\xec\\xa4\\x91\\xea\\xb0\\x9c\\xec\\x82\\xac\\xec\\x86\\x8c\\xec\\x9e\\xac\\xec\\xa7\\x80>\\xea\\xb2\\xbd\\xea\\xb8\\xb0 \\xec\\x9a\\xa9\\xec\\x9d\\xb8\\xec\\x88\\x98\\xec\\xa7\\x80\\xea\\xb5\\xac</\\xec\\xa4\\x91\\xea\\xb0\\x9c\\xec\\x82\\xac\\xec\\x86\\x8c\\xec\\x9e\\xac\\xec\\xa7\\x80><\\xec\\xa7\\x80\\xeb\\xb2\\x88>663-1</\\xec\\xa7\\x80\\xeb\\xb2\\x88><\\xec\\xa7\\x80\\xec\\x97\\xad\\xec\\xbd\\x94\\xeb\\x93\\x9c>41465</\\xec\\xa7\\x80\\xec\\x97\\xad\\xec\\xbd\\x94\\xeb\\x93\\x9c><\\xec\\xb8\\xb5>11</\\xec\\xb8\\xb5><\\xed\\x95\\xb4\\xec\\xa0\\x9c\\xec\\x82\\xac\\xec\\x9c\\xa0\\xeb\\xb0\\x9c\\xec\\x83\\x9d\\xec\\x9d\\xbc> </\\xed\\x95\\xb4\\xec\\xa0\\x9c\\xec\\x82\\xac\\xec\\x9c\\xa0\\xeb\\xb0\\x9c\\xec\\x83\\x9d\\xec\\x9d\\xbc><\\xed\\x95\\xb4\\xec\\xa0\\x9c\\xec\\x97\\xac\\xeb\\xb6\\x80> </\\xed\\x95\\xb4\\xec\\xa0\\x9c\\xec\\x97\\xac\\xeb\\xb6\\x80></item><item><\\xea\\xb1\\xb0\\xeb\\x9e\\x98\\xea\\xb8\\x88\\xec\\x95\\xa1>    58,600</\\xea\\xb1\\xb0\\xeb\\x9e\\x98\\xea\\xb8\\x88\\xec\\x95\\xa1><\\xea\\xb1\\xb0\\xeb\\x9e\\x98\\xec\\x9c\\xa0\\xed\\x98\\x95>\\xec\\xa4\\x91\\xea\\xb0\\x9c\\xea\\xb1\\xb0\\xeb\\x9e\\x98</\\xea\\xb1\\xb0\\xeb\\x9e\\x98\\xec\\x9c\\xa0\\xed\\x98\\x95><\\xea\\xb1\\xb4\\xec\\xb6\\x95\\xeb\\x85\\x84\\xeb\\x8f\\x84>1999</\\xea\\xb1\\xb4\\xec\\xb6\\x95\\xeb\\x85\\x84\\xeb\\x8f\\x84><\\xeb\\x85\\x84>2023</\\xeb\\x85\\x84><\\xeb\\x8f\\x84\\xeb\\xa1\\x9c\\xeb\\xaa\\x85>\\xed\\x92\\x8d\\xeb\\x8d\\x95\\xec\\xb2\\x9c\\xeb\\xa1\\x9c</\\xeb\\x8f\\x84\\xeb\\xa1\\x9c\\xeb\\xaa\\x85><\\xeb\\x8f\\x84\\xeb\\xa1\\x9c\\xeb\\xaa\\x85\\xea\\xb1\\xb4\\xeb\\xac\\xbc\\xeb\\xb3\\xb8\\xeb\\xb2\\x88\\xed\\x98\\xb8\\xec\\xbd\\x94\\xeb\\x93\\x9c>00052</\\xeb\\x8f\\x84\\xeb\\xa1\\x9c\\xeb\\xaa\\x85\\xea\\xb1\\xb4\\xeb\\xac\\xbc\\xeb\\xb3\\xb8\\xeb\\xb2\\x88\\xed\\x98\\xb8\\xec\\xbd\\x94\\xeb\\x93\\x9c><\\xeb\\x8f\\x84\\xeb\\xa1\\x9c\\xeb\\xaa\\x85\\xea\\xb1\\xb4\\xeb\\xac\\xbc\\xeb\\xb6\\x80\\xeb\\xb2\\x88\\xed\\x98\\xb8\\xec\\xbd\\x94\\xeb\\x93\\x9c>00000</\\xeb\\x8f\\x84\\xeb\\xa1\\x9c\\xeb\\xaa\\x85\\xea\\xb1\\xb4\\xeb\\xac\\xbc\\xeb\\xb6\\x80\\xeb\\xb2\\x88\\xed\\x98\\xb8\\xec\\xbd\\x94\\xeb\\x93\\x9c><\\xeb\\x8f\\x84\\xeb\\xa1\\x9c\\xeb\\xaa\\x85\\xec\\x8b\\x9c\\xea\\xb5\\xb0\\xea\\xb5\\xac\\xec\\xbd\\x94\\xeb\\x93\\x9c>41465</\\xeb\\x8f\\x84\\xeb\\xa1\\x9c\\xeb\\xaa\\x85\\xec\\x8b\\x9c\\xea\\xb5\\xb0\\xea\\xb5\\xac\\xec\\xbd\\x94\\xeb\\x93\\x9c><\\xeb\\x8f\\x84\\xeb\\xa1\\x9c\\xeb\\xaa\\x85\\xec\\x9d\\xbc\\xeb\\xa0\\xa8\\xeb\\xb2\\x88\\xed\\x98\\xb8\\xec\\xbd\\x94\\xeb\\x93\\x9c>01</\\xeb\\x8f\\x84\\xeb\\xa1\\x9c\\xeb\\xaa\\x85\\xec\\x9d\\xbc\\xeb\\xa0\\xa8\\xeb\\xb2\\x88\\xed\\x98\\xb8\\xec\\xbd\\x94\\xeb\\x93\\x9c><\\xeb\\x8f\\x84\\xeb\\xa1\\x9c\\xeb\\xaa\\x85\\xec\\xa7\\x80\\xec\\x83\\x81\\xec\\xa7\\x80\\xed\\x95\\x98\\xec\\xbd\\x94\\xeb\\x93\\x9c>0</\\xeb\\x8f\\x84\\xeb\\xa1\\x9c\\xeb\\xaa\\x85\\xec\\xa7\\x80\\xec\\x83\\x81\\xec\\xa7\\x80\\xed\\x95\\x98\\xec\\xbd\\x94\\xeb\\x93\\x9c><\\xeb\\x8f\\x84\\xeb\\xa1\\x9c\\xeb\\xaa\\x85\\xec\\xbd\\x94\\xeb\\x93\\x9c>3205021</\\xeb\\x8f\\x84\\xeb\\xa1\\x9c\\xeb\\xaa\\x85\\xec\\xbd\\x94\\xeb\\x93\\x9c><\\xeb\\xb2\\x95\\xec\\xa0\\x95\\xeb\\x8f\\x99> \\xed\\x92\\x8d\\xeb\\x8d\\x95\\xec\\xb2\\x9c\\xeb\\x8f\\x99</\\xeb\\xb2\\x95\\xec\\xa0\\x95\\xeb\\x8f\\x99><\\xeb\\xb2\\x95\\xec\\xa0\\x95\\xeb\\x8f\\x99\\xeb\\xb3\\xb8\\xeb\\xb2\\x88\\xec\\xbd\\x94\\xeb\\x93\\x9c>1112</\\xeb\\xb2\\x95\\xec\\xa0\\x95\\xeb\\x8f\\x99\\xeb\\xb3\\xb8\\xeb\\xb2\\x88\\xec\\xbd\\x94\\xeb\\x93\\x9c><\\xeb\\xb2\\x95\\xec\\xa0\\x95\\xeb\\x8f\\x99\\xeb\\xb6\\x80\\xeb\\xb2\\x88\\xec\\xbd\\x94\\xeb\\x93\\x9c>0000</\\xeb\\xb2\\x95\\xec\\xa0\\x95\\xeb\\x8f\\x99\\xeb\\xb6\\x80\\xeb\\xb2\\x88\\xec\\xbd\\x94\\xeb\\x93\\x9c><\\xeb\\xb2\\x95\\xec\\xa0\\x95\\xeb\\x8f\\x99\\xec\\x8b\\x9c\\xea\\xb5\\xb0\\xea\\xb5\\xac\\xec\\xbd\\x94\\xeb\\x93\\x9c>41465</\\xeb\\xb2\\x95\\xec\\xa0\\x95\\xeb\\x8f\\x99\\xec\\x8b\\x9c\\xea\\xb5\\xb0\\xea\\xb5\\xac\\xec\\xbd\\x94\\xeb\\x93\\x9c><\\xeb\\xb2\\x95\\xec\\xa0\\x95\\xeb\\x8f\\x99\\xec\\x9d\\x8d\\xeb\\xa9\\xb4\\xeb\\x8f\\x99\\xec\\xbd\\x94\\xeb\\x93\\x9c>10100</\\xeb\\xb2\\x95\\xec\\xa0\\x95\\xeb\\x8f\\x99\\xec\\x9d\\x8d\\xeb\\xa9\\xb4\\xeb\\x8f\\x99\\xec\\xbd\\x94\\xeb\\x93\\x9c><\\xeb\\xb2\\x95\\xec\\xa0\\x95\\xeb\\x8f\\x99\\xec\\xa7\\x80\\xeb\\xb2\\x88\\xec\\xbd\\x94\\xeb\\x93\\x9c>1</\\xeb\\xb2\\x95\\xec\\xa0\\x95\\xeb\\x8f\\x99\\xec\\xa7\\x80\\xeb\\xb2\\x88\\xec\\xbd\\x94\\xeb\\x93\\x9c><\\xec\\x95\\x84\\xed\\x8c\\x8c\\xed\\x8a\\xb8>\\xed\\x98\\x84\\xeb\\x8c\\x80\\xec\\x84\\xb1\\xec\\x9a\\xb08\\xec\\xb0\\xa8</\\xec\\x95\\x84\\xed\\x8c\\x8c\\xed\\x8a\\xb8><\\xec\\x9b\\x94>3</\\xec\\x9b\\x94><\\xec\\x9d\\xbc>3</\\xec\\x9d\\xbc><\\xec\\x9d\\xbc\\xeb\\xa0\\xa8\\xeb\\xb2\\x88\\xed\\x98\\xb8>41465-19</\\xec\\x9d\\xbc\\xeb\\xa0\\xa8\\xeb\\xb2\\x88\\xed\\x98\\xb8><\\xec\\xa0\\x84\\xec\\x9a\\xa9\\xeb\\xa9\\xb4\\xec\\xa0\\x81>59.99</\\xec\\xa0\\x84\\xec\\x9a\\xa9\\xeb\\xa9\\xb4\\xec\\xa0\\x81><\\xec\\xa4\\x91\\xea\\xb0\\x9c\\xec\\x82\\xac\\xec\\x86\\x8c\\xec\\x9e\\xac\\xec\\xa7\\x80>\\xea\\xb2\\xbd\\xea\\xb8\\xb0 \\xec\\x9a\\xa9\\xec\\x9d\\xb8\\xec\\x88\\x98\\xec\\xa7\\x80\\xea\\xb5\\xac</\\xec\\xa4\\x91\\xea\\xb0\\x9c\\xec\\x82\\xac\\xec\\x86\\x8c\\xec\\x9e\\xac\\xec\\xa7\\x80><\\xec\\xa7\\x80\\xeb\\xb2\\x88>1112</\\xec\\xa7\\x80\\xeb\\xb2\\x88><\\xec\\xa7\\x80\\xec\\x97\\xad\\xec\\xbd\\x94\\xeb\\x93\\x9c>41465</\\xec\\xa7\\x80\\xec\\x97\\xad\\xec\\xbd\\x94\\xeb\\x93\\x9c><\\xec\\xb8\\xb5>12</\\xec\\xb8\\xb5><\\xed\\x95\\xb4\\xec\\xa0\\x9c\\xec\\x82\\xac\\xec\\x9c\\xa0\\xeb\\xb0\\x9c\\xec\\x83\\x9d\\xec\\x9d\\xbc> </\\xed\\x95\\xb4\\xec\\xa0\\x9c\\xec\\x82\\xac\\xec\\x9c\\xa0\\xeb\\xb0\\x9c\\xec\\x83\\x9d\\xec\\x9d\\xbc><\\xed\\x95\\xb4\\xec\\xa0\\x9c\\xec\\x97\\xac\\xeb\\xb6\\x80> </\\xed\\x95\\xb4\\xec\\xa0\\x9c\\xec\\x97\\xac\\xeb\\xb6\\x80></item></items><numOfRows>10</numOfRows><pageNo>1</pageNo><totalCount>368</totalCount></body></response>'\n"
     ]
    }
   ],
   "source": [
    "#개인 일반 인증키(Encoding) 저장\n",
    "service_key = 'eEXQS4iAiiIMaDr6Kb7%2F5tV%2BiyLaGWtNqK1Spge1j3ZoFlMjZWS11y2uhBZtAPFkWfL3r1Lq1qY1KIUV9PzJBg%3D%3D'\n",
    "LAWD_CD = '41465'\n",
    "DEAL_YMD = '202303'\n",
    "\n",
    "\n",
    "url = 'http://openapi.molit.go.kr/OpenAPI_ToolInstallPackage/service/rest/RTMSOBJSvc/getRTMSDataSvcAptTradeDev'+'?LAWD_CD='+ LAWD_CD +'&DEAL_YMD='+DEAL_YMD+'&serviceKey='+service_key\n",
    "\n",
    "response = requests.get(url)\n",
    "print(response.content)"
   ],
   "metadata": {
    "collapsed": false,
    "ExecuteTime": {
     "start_time": "2023-04-25T01:11:05.755924Z",
     "end_time": "2023-04-25T01:11:05.998159Z"
    }
   }
  },
  {
   "cell_type": "code",
   "execution_count": 31,
   "outputs": [],
   "source": [
    "# context = ssl._create_unverified_context() 설정\n",
    "import ssl\n",
    "from urllib.request import urlopen\n",
    "context=ssl.create_default_context()\n",
    "context.set_ciphers(\"DEFAULT\")"
   ],
   "metadata": {
    "collapsed": false,
    "ExecuteTime": {
     "start_time": "2023-04-25T01:11:06.000154Z",
     "end_time": "2023-04-25T01:11:06.064235Z"
    }
   }
  },
  {
   "cell_type": "code",
   "execution_count": 32,
   "outputs": [
    {
     "data": {
      "text/plain": "     거래금액  거래유형  건축년도     년   도로명  도로명건물본번호코드  도로명건물부번호코드  도로명시군구코드  \\\n5  45,000   직거래  1999  2023  풍덕천로          52           0     41465   \n6  80,000  중개거래  2000  2023   정평로          73           0     41465   \n7  62,300  중개거래  2000  2023  풍덕천로          91           0     41465   \n8  52,700  중개거래  1994  2023   수풍로          90           0     41465   \n9  58,600  중개거래  1999  2023  풍덕천로          52           0     41465   \n\n   도로명일련번호코드    도로명코드  ...  일      일련번호     전용면적    중개사소재지     지번   지역코드   층  \\\n5          1  3205021  ...  1  41465-19   59.990       NaN   1112  41465  12   \n6          0  3205018  ...  2  41465-22  101.647  경기 용인수지구   1018  41465  16   \n7          1  3205021  ...  2  41465-23   59.340  경기 용인수지구   1065  41465  18   \n8          1  3205013  ...  3  41465-11   59.760  경기 용인수지구  663-1  41465  11   \n9          1  3205021  ...  3  41465-19   59.990  경기 용인수지구   1112  41465  12   \n\n   해제사유발생일  해제여부 도로명지상지하코드  \n5      NaN   NaN       0.0  \n6      NaN   NaN       NaN  \n7      NaN   NaN       0.0  \n8      NaN   NaN       0.0  \n9      NaN   NaN       0.0  \n\n[5 rows x 28 columns]",
      "text/html": "<div>\n<style scoped>\n    .dataframe tbody tr th:only-of-type {\n        vertical-align: middle;\n    }\n\n    .dataframe tbody tr th {\n        vertical-align: top;\n    }\n\n    .dataframe thead th {\n        text-align: right;\n    }\n</style>\n<table border=\"1\" class=\"dataframe\">\n  <thead>\n    <tr style=\"text-align: right;\">\n      <th></th>\n      <th>거래금액</th>\n      <th>거래유형</th>\n      <th>건축년도</th>\n      <th>년</th>\n      <th>도로명</th>\n      <th>도로명건물본번호코드</th>\n      <th>도로명건물부번호코드</th>\n      <th>도로명시군구코드</th>\n      <th>도로명일련번호코드</th>\n      <th>도로명코드</th>\n      <th>...</th>\n      <th>일</th>\n      <th>일련번호</th>\n      <th>전용면적</th>\n      <th>중개사소재지</th>\n      <th>지번</th>\n      <th>지역코드</th>\n      <th>층</th>\n      <th>해제사유발생일</th>\n      <th>해제여부</th>\n      <th>도로명지상지하코드</th>\n    </tr>\n  </thead>\n  <tbody>\n    <tr>\n      <th>5</th>\n      <td>45,000</td>\n      <td>직거래</td>\n      <td>1999</td>\n      <td>2023</td>\n      <td>풍덕천로</td>\n      <td>52</td>\n      <td>0</td>\n      <td>41465</td>\n      <td>1</td>\n      <td>3205021</td>\n      <td>...</td>\n      <td>1</td>\n      <td>41465-19</td>\n      <td>59.990</td>\n      <td>NaN</td>\n      <td>1112</td>\n      <td>41465</td>\n      <td>12</td>\n      <td>NaN</td>\n      <td>NaN</td>\n      <td>0.0</td>\n    </tr>\n    <tr>\n      <th>6</th>\n      <td>80,000</td>\n      <td>중개거래</td>\n      <td>2000</td>\n      <td>2023</td>\n      <td>정평로</td>\n      <td>73</td>\n      <td>0</td>\n      <td>41465</td>\n      <td>0</td>\n      <td>3205018</td>\n      <td>...</td>\n      <td>2</td>\n      <td>41465-22</td>\n      <td>101.647</td>\n      <td>경기 용인수지구</td>\n      <td>1018</td>\n      <td>41465</td>\n      <td>16</td>\n      <td>NaN</td>\n      <td>NaN</td>\n      <td>NaN</td>\n    </tr>\n    <tr>\n      <th>7</th>\n      <td>62,300</td>\n      <td>중개거래</td>\n      <td>2000</td>\n      <td>2023</td>\n      <td>풍덕천로</td>\n      <td>91</td>\n      <td>0</td>\n      <td>41465</td>\n      <td>1</td>\n      <td>3205021</td>\n      <td>...</td>\n      <td>2</td>\n      <td>41465-23</td>\n      <td>59.340</td>\n      <td>경기 용인수지구</td>\n      <td>1065</td>\n      <td>41465</td>\n      <td>18</td>\n      <td>NaN</td>\n      <td>NaN</td>\n      <td>0.0</td>\n    </tr>\n    <tr>\n      <th>8</th>\n      <td>52,700</td>\n      <td>중개거래</td>\n      <td>1994</td>\n      <td>2023</td>\n      <td>수풍로</td>\n      <td>90</td>\n      <td>0</td>\n      <td>41465</td>\n      <td>1</td>\n      <td>3205013</td>\n      <td>...</td>\n      <td>3</td>\n      <td>41465-11</td>\n      <td>59.760</td>\n      <td>경기 용인수지구</td>\n      <td>663-1</td>\n      <td>41465</td>\n      <td>11</td>\n      <td>NaN</td>\n      <td>NaN</td>\n      <td>0.0</td>\n    </tr>\n    <tr>\n      <th>9</th>\n      <td>58,600</td>\n      <td>중개거래</td>\n      <td>1999</td>\n      <td>2023</td>\n      <td>풍덕천로</td>\n      <td>52</td>\n      <td>0</td>\n      <td>41465</td>\n      <td>1</td>\n      <td>3205021</td>\n      <td>...</td>\n      <td>3</td>\n      <td>41465-19</td>\n      <td>59.990</td>\n      <td>경기 용인수지구</td>\n      <td>1112</td>\n      <td>41465</td>\n      <td>12</td>\n      <td>NaN</td>\n      <td>NaN</td>\n      <td>0.0</td>\n    </tr>\n  </tbody>\n</table>\n<p>5 rows × 28 columns</p>\n</div>"
     },
     "execution_count": 32,
     "metadata": {},
     "output_type": "execute_result"
    }
   ],
   "source": [
    "# emrList = pd.read_xml(url, xpath='/response/body/items/item')\n",
    "result = urlopen(url, context=context)\n",
    "emrList = pd.read_xml(result, xpath='.//item')\n",
    "\n",
    "emrList.tail()"
   ],
   "metadata": {
    "collapsed": false,
    "ExecuteTime": {
     "start_time": "2023-04-25T01:11:07.216233Z",
     "end_time": "2023-04-25T01:11:07.500254Z"
    }
   }
  },
  {
   "cell_type": "code",
   "execution_count": 33,
   "outputs": [
    {
     "data": {
      "text/plain": "     거래금액  거래유형     년   법정동      아파트  월  일     전용면적\n5  45,000   직거래  2023  풍덕천동   현대성우8차  3  1   59.990\n6  80,000  중개거래  2023  풍덕천동   신정마을임광  3  2  101.647\n7  62,300  중개거래  2023  풍덕천동  신정마을주공1  3  2   59.340\n8  52,700  중개거래  2023  풍덕천동   수지삼성4차  3  3   59.760\n9  58,600  중개거래  2023  풍덕천동   현대성우8차  3  3   59.990",
      "text/html": "<div>\n<style scoped>\n    .dataframe tbody tr th:only-of-type {\n        vertical-align: middle;\n    }\n\n    .dataframe tbody tr th {\n        vertical-align: top;\n    }\n\n    .dataframe thead th {\n        text-align: right;\n    }\n</style>\n<table border=\"1\" class=\"dataframe\">\n  <thead>\n    <tr style=\"text-align: right;\">\n      <th></th>\n      <th>거래금액</th>\n      <th>거래유형</th>\n      <th>년</th>\n      <th>법정동</th>\n      <th>아파트</th>\n      <th>월</th>\n      <th>일</th>\n      <th>전용면적</th>\n    </tr>\n  </thead>\n  <tbody>\n    <tr>\n      <th>5</th>\n      <td>45,000</td>\n      <td>직거래</td>\n      <td>2023</td>\n      <td>풍덕천동</td>\n      <td>현대성우8차</td>\n      <td>3</td>\n      <td>1</td>\n      <td>59.990</td>\n    </tr>\n    <tr>\n      <th>6</th>\n      <td>80,000</td>\n      <td>중개거래</td>\n      <td>2023</td>\n      <td>풍덕천동</td>\n      <td>신정마을임광</td>\n      <td>3</td>\n      <td>2</td>\n      <td>101.647</td>\n    </tr>\n    <tr>\n      <th>7</th>\n      <td>62,300</td>\n      <td>중개거래</td>\n      <td>2023</td>\n      <td>풍덕천동</td>\n      <td>신정마을주공1</td>\n      <td>3</td>\n      <td>2</td>\n      <td>59.340</td>\n    </tr>\n    <tr>\n      <th>8</th>\n      <td>52,700</td>\n      <td>중개거래</td>\n      <td>2023</td>\n      <td>풍덕천동</td>\n      <td>수지삼성4차</td>\n      <td>3</td>\n      <td>3</td>\n      <td>59.760</td>\n    </tr>\n    <tr>\n      <th>9</th>\n      <td>58,600</td>\n      <td>중개거래</td>\n      <td>2023</td>\n      <td>풍덕천동</td>\n      <td>현대성우8차</td>\n      <td>3</td>\n      <td>3</td>\n      <td>59.990</td>\n    </tr>\n  </tbody>\n</table>\n</div>"
     },
     "execution_count": 33,
     "metadata": {},
     "output_type": "execute_result"
    }
   ],
   "source": [
    "df =emrList[['거래금액', '거래유형', '년', '법정동', '아파트', '월', '일', '전용면적']]\n",
    "df.tail()"
   ],
   "metadata": {
    "collapsed": false,
    "ExecuteTime": {
     "start_time": "2023-04-25T01:11:18.513377Z",
     "end_time": "2023-04-25T01:11:18.539855Z"
    }
   }
  },
  {
   "cell_type": "code",
   "execution_count": 34,
   "outputs": [
    {
     "name": "stderr",
     "output_type": "stream",
     "text": [
      "C:\\Users\\Administrator\\AppData\\Local\\Temp\\ipykernel_11076\\2401453275.py:2: SettingWithCopyWarning: \n",
      "A value is trying to be set on a copy of a slice from a DataFrame.\n",
      "Try using .loc[row_indexer,col_indexer] = value instead\n",
      "\n",
      "See the caveats in the documentation: https://pandas.pydata.org/pandas-docs/stable/user_guide/indexing.html#returning-a-view-versus-a-copy\n",
      "  df['평수'] = df['전용면적'].apply(lambda x: round(x/3.3, 2))\n"
     ]
    }
   ],
   "source": [
    "# 전용면적 기준으로 '평수' column 생성\n",
    "df['평수'] = df['전용면적'].apply(lambda x: round(x/3.3, 2))"
   ],
   "metadata": {
    "collapsed": false,
    "ExecuteTime": {
     "start_time": "2023-04-25T01:11:23.945714Z",
     "end_time": "2023-04-25T01:11:23.964518Z"
    }
   }
  },
  {
   "cell_type": "code",
   "execution_count": 26,
   "outputs": [
    {
     "data": {
      "text/plain": "     거래금액  거래유형     년   법정동           아파트  월  일      전용면적     평수\n0  99,900  중개거래  2023  풍덕천동        신정마을임광  4  1  134.5830  40.78\n1  84,000  중개거래  2023  풍덕천동  정자뜰마을태영데시앙1차  4  1   84.6580  25.65\n2  64,900  중개거래  2023  풍덕천동            한성  4  1   59.5400  18.04\n3  69,400  중개거래  2023  풍덕천동       신정마을주공1  4  1   59.3900  18.00\n4  51,500  중개거래  2023  풍덕천동        수지삼성4차  4  2   59.7600  18.11\n5  63,000  중개거래  2023  풍덕천동            한성  4  2   59.5400  18.04\n6  62,500  중개거래  2023  풍덕천동        신정마을진흥  4  3   84.9900  25.75\n7  65,000  중개거래  2023  풍덕천동       신정마을주공1  4  4   59.3900  18.00\n8  17,000   직거래  2023  풍덕천동  수지풍덕천한샘더랜드마크  4  4   15.5706   4.72\n9  44,000  중개거래  2023  풍덕천동            보원  4  5   59.7210  18.10",
      "text/html": "<div>\n<style scoped>\n    .dataframe tbody tr th:only-of-type {\n        vertical-align: middle;\n    }\n\n    .dataframe tbody tr th {\n        vertical-align: top;\n    }\n\n    .dataframe thead th {\n        text-align: right;\n    }\n</style>\n<table border=\"1\" class=\"dataframe\">\n  <thead>\n    <tr style=\"text-align: right;\">\n      <th></th>\n      <th>거래금액</th>\n      <th>거래유형</th>\n      <th>년</th>\n      <th>법정동</th>\n      <th>아파트</th>\n      <th>월</th>\n      <th>일</th>\n      <th>전용면적</th>\n      <th>평수</th>\n    </tr>\n  </thead>\n  <tbody>\n    <tr>\n      <th>0</th>\n      <td>99,900</td>\n      <td>중개거래</td>\n      <td>2023</td>\n      <td>풍덕천동</td>\n      <td>신정마을임광</td>\n      <td>4</td>\n      <td>1</td>\n      <td>134.5830</td>\n      <td>40.78</td>\n    </tr>\n    <tr>\n      <th>1</th>\n      <td>84,000</td>\n      <td>중개거래</td>\n      <td>2023</td>\n      <td>풍덕천동</td>\n      <td>정자뜰마을태영데시앙1차</td>\n      <td>4</td>\n      <td>1</td>\n      <td>84.6580</td>\n      <td>25.65</td>\n    </tr>\n    <tr>\n      <th>2</th>\n      <td>64,900</td>\n      <td>중개거래</td>\n      <td>2023</td>\n      <td>풍덕천동</td>\n      <td>한성</td>\n      <td>4</td>\n      <td>1</td>\n      <td>59.5400</td>\n      <td>18.04</td>\n    </tr>\n    <tr>\n      <th>3</th>\n      <td>69,400</td>\n      <td>중개거래</td>\n      <td>2023</td>\n      <td>풍덕천동</td>\n      <td>신정마을주공1</td>\n      <td>4</td>\n      <td>1</td>\n      <td>59.3900</td>\n      <td>18.00</td>\n    </tr>\n    <tr>\n      <th>4</th>\n      <td>51,500</td>\n      <td>중개거래</td>\n      <td>2023</td>\n      <td>풍덕천동</td>\n      <td>수지삼성4차</td>\n      <td>4</td>\n      <td>2</td>\n      <td>59.7600</td>\n      <td>18.11</td>\n    </tr>\n    <tr>\n      <th>5</th>\n      <td>63,000</td>\n      <td>중개거래</td>\n      <td>2023</td>\n      <td>풍덕천동</td>\n      <td>한성</td>\n      <td>4</td>\n      <td>2</td>\n      <td>59.5400</td>\n      <td>18.04</td>\n    </tr>\n    <tr>\n      <th>6</th>\n      <td>62,500</td>\n      <td>중개거래</td>\n      <td>2023</td>\n      <td>풍덕천동</td>\n      <td>신정마을진흥</td>\n      <td>4</td>\n      <td>3</td>\n      <td>84.9900</td>\n      <td>25.75</td>\n    </tr>\n    <tr>\n      <th>7</th>\n      <td>65,000</td>\n      <td>중개거래</td>\n      <td>2023</td>\n      <td>풍덕천동</td>\n      <td>신정마을주공1</td>\n      <td>4</td>\n      <td>4</td>\n      <td>59.3900</td>\n      <td>18.00</td>\n    </tr>\n    <tr>\n      <th>8</th>\n      <td>17,000</td>\n      <td>직거래</td>\n      <td>2023</td>\n      <td>풍덕천동</td>\n      <td>수지풍덕천한샘더랜드마크</td>\n      <td>4</td>\n      <td>4</td>\n      <td>15.5706</td>\n      <td>4.72</td>\n    </tr>\n    <tr>\n      <th>9</th>\n      <td>44,000</td>\n      <td>중개거래</td>\n      <td>2023</td>\n      <td>풍덕천동</td>\n      <td>보원</td>\n      <td>4</td>\n      <td>5</td>\n      <td>59.7210</td>\n      <td>18.10</td>\n    </tr>\n  </tbody>\n</table>\n</div>"
     },
     "execution_count": 26,
     "metadata": {},
     "output_type": "execute_result"
    }
   ],
   "source": [
    "df.head(30)"
   ],
   "metadata": {
    "collapsed": false,
    "ExecuteTime": {
     "start_time": "2023-04-25T01:00:52.991408Z",
     "end_time": "2023-04-25T01:00:53.006371Z"
    }
   }
  },
  {
   "cell_type": "code",
   "execution_count": 36,
   "outputs": [
    {
     "data": {
      "text/plain": "      거래금액  거래유형     년   법정동      아파트  월  일     전용면적     평수\n1  104,500  중개거래  2023  풍덕천동  e편한세상수지  3  1   84.943  25.74\n2  103,000  중개거래  2023  풍덕천동  e편한세상수지  3  1   84.921  25.73\n0   45,000  중개거래  2023  풍덕천동       보원  3  1   59.721  18.10\n8   52,700  중개거래  2023  풍덕천동   수지삼성4차  3  3   59.760  18.11\n4   80,000  중개거래  2023  풍덕천동   신정마을성지  3  1   99.330  30.10\n3   70,000  중개거래  2023  풍덕천동   신정마을우성  3  1   84.900  25.73\n6   80,000  중개거래  2023  풍덕천동   신정마을임광  3  2  101.647  30.80\n7   62,300  중개거래  2023  풍덕천동  신정마을주공1  3  2   59.340  17.98\n5   45,000   직거래  2023  풍덕천동   현대성우8차  3  1   59.990  18.18\n9   58,600  중개거래  2023  풍덕천동   현대성우8차  3  3   59.990  18.18",
      "text/html": "<div>\n<style scoped>\n    .dataframe tbody tr th:only-of-type {\n        vertical-align: middle;\n    }\n\n    .dataframe tbody tr th {\n        vertical-align: top;\n    }\n\n    .dataframe thead th {\n        text-align: right;\n    }\n</style>\n<table border=\"1\" class=\"dataframe\">\n  <thead>\n    <tr style=\"text-align: right;\">\n      <th></th>\n      <th>거래금액</th>\n      <th>거래유형</th>\n      <th>년</th>\n      <th>법정동</th>\n      <th>아파트</th>\n      <th>월</th>\n      <th>일</th>\n      <th>전용면적</th>\n      <th>평수</th>\n    </tr>\n  </thead>\n  <tbody>\n    <tr>\n      <th>1</th>\n      <td>104,500</td>\n      <td>중개거래</td>\n      <td>2023</td>\n      <td>풍덕천동</td>\n      <td>e편한세상수지</td>\n      <td>3</td>\n      <td>1</td>\n      <td>84.943</td>\n      <td>25.74</td>\n    </tr>\n    <tr>\n      <th>2</th>\n      <td>103,000</td>\n      <td>중개거래</td>\n      <td>2023</td>\n      <td>풍덕천동</td>\n      <td>e편한세상수지</td>\n      <td>3</td>\n      <td>1</td>\n      <td>84.921</td>\n      <td>25.73</td>\n    </tr>\n    <tr>\n      <th>0</th>\n      <td>45,000</td>\n      <td>중개거래</td>\n      <td>2023</td>\n      <td>풍덕천동</td>\n      <td>보원</td>\n      <td>3</td>\n      <td>1</td>\n      <td>59.721</td>\n      <td>18.10</td>\n    </tr>\n    <tr>\n      <th>8</th>\n      <td>52,700</td>\n      <td>중개거래</td>\n      <td>2023</td>\n      <td>풍덕천동</td>\n      <td>수지삼성4차</td>\n      <td>3</td>\n      <td>3</td>\n      <td>59.760</td>\n      <td>18.11</td>\n    </tr>\n    <tr>\n      <th>4</th>\n      <td>80,000</td>\n      <td>중개거래</td>\n      <td>2023</td>\n      <td>풍덕천동</td>\n      <td>신정마을성지</td>\n      <td>3</td>\n      <td>1</td>\n      <td>99.330</td>\n      <td>30.10</td>\n    </tr>\n    <tr>\n      <th>3</th>\n      <td>70,000</td>\n      <td>중개거래</td>\n      <td>2023</td>\n      <td>풍덕천동</td>\n      <td>신정마을우성</td>\n      <td>3</td>\n      <td>1</td>\n      <td>84.900</td>\n      <td>25.73</td>\n    </tr>\n    <tr>\n      <th>6</th>\n      <td>80,000</td>\n      <td>중개거래</td>\n      <td>2023</td>\n      <td>풍덕천동</td>\n      <td>신정마을임광</td>\n      <td>3</td>\n      <td>2</td>\n      <td>101.647</td>\n      <td>30.80</td>\n    </tr>\n    <tr>\n      <th>7</th>\n      <td>62,300</td>\n      <td>중개거래</td>\n      <td>2023</td>\n      <td>풍덕천동</td>\n      <td>신정마을주공1</td>\n      <td>3</td>\n      <td>2</td>\n      <td>59.340</td>\n      <td>17.98</td>\n    </tr>\n    <tr>\n      <th>5</th>\n      <td>45,000</td>\n      <td>직거래</td>\n      <td>2023</td>\n      <td>풍덕천동</td>\n      <td>현대성우8차</td>\n      <td>3</td>\n      <td>1</td>\n      <td>59.990</td>\n      <td>18.18</td>\n    </tr>\n    <tr>\n      <th>9</th>\n      <td>58,600</td>\n      <td>중개거래</td>\n      <td>2023</td>\n      <td>풍덕천동</td>\n      <td>현대성우8차</td>\n      <td>3</td>\n      <td>3</td>\n      <td>59.990</td>\n      <td>18.18</td>\n    </tr>\n  </tbody>\n</table>\n</div>"
     },
     "execution_count": 36,
     "metadata": {},
     "output_type": "execute_result"
    }
   ],
   "source": [
    "# '아파트' 를 가나다 순으로 재정렬\n",
    "df = df.sort_values(by=['아파트'], axis=0)\n",
    "df.head(10)"
   ],
   "metadata": {
    "collapsed": false,
    "ExecuteTime": {
     "start_time": "2023-04-25T01:12:14.197247Z",
     "end_time": "2023-04-25T01:12:14.211210Z"
    }
   }
  },
  {
   "cell_type": "markdown",
   "source": [
    "## PublicDataReader 활용\n",
    "**https://wooiljeong.github.io/python/public_data_reader_01/**"
   ],
   "metadata": {
    "collapsed": false
   }
  },
  {
   "cell_type": "code",
   "execution_count": 85,
   "outputs": [
    {
     "name": "stdout",
     "output_type": "stream",
     "text": [
      "출처: 행정기관(행정동) 및 관할구역(법정동) 변경내역(2023. 2. 24. 시행)\n",
      "URL: https://www.mois.go.kr/frt/bbs/type001/commonSelectBoardArticle.do?bbsId=BBSMSTR_000000000052&nttId=98870\n",
      "\n"
     ]
    }
   ],
   "source": [
    "# PublicDataReader 활용\n",
    "# 서비스키 할당하기\n",
    "service_key = \"eEXQS4iAiiIMaDr6Kb7%2F5tV%2BiyLaGWtNqK1Spge1j3ZoFlMjZWS11y2uhBZtAPFkWfL3r1Lq1qY1KIUV9PzJBg%3D%3D\"\n",
    "\n",
    "# 데이터 조회 인스턴스 만들기\n",
    "from PublicDataReader import TransactionPrice\n",
    "api = TransactionPrice(service_key)\n",
    "\n",
    "# 시군구코드 조회하기\n",
    "import PublicDataReader as pdr\n",
    "sigungu_name = \"수지구\"\n",
    "code = pdr.code_bdong()\n",
    "code.loc[(code['시군구명'].str.contains(sigungu_name)) &\n",
    "         (code['읍면동명']=='')]\n",
    "\n",
    "# 특정 기간 자료 조회하기\n",
    "df = api.get_data(\n",
    "    property_type=\"아파트\",\n",
    "    trade_type=\"매매\",\n",
    "    sigungu_code=\"41465\",\n",
    "    start_year_month=\"202302\",\n",
    "    end_year_month=\"202304\",\n",
    "    )"
   ],
   "metadata": {
    "collapsed": false,
    "ExecuteTime": {
     "start_time": "2023-04-25T02:06:07.590092Z",
     "end_time": "2023-04-25T02:06:09.092136Z"
    }
   }
  },
  {
   "cell_type": "code",
   "execution_count": 86,
   "outputs": [
    {
     "data": {
      "text/plain": "      지역코드   도로명  법정동   지번     아파트  건축년도   층     전용면적     년  월  ...  법정동본번코드  \\\n812  41465  성복2로  성복동  726  LG빌리지3  2002   7  239.193  2023  4  ...     0726   \n577  41465  성복2로  성복동  726  LG빌리지3  2002  15  134.993  2023  3  ...     0726   \n804  41465  성복2로  성복동  726  LG빌리지3  2002   4  204.202  2023  4  ...     0726   \n612  41465  성복2로  성복동  726  LG빌리지3  2002   1  134.993  2023  3  ...     0726   \n607  41465  성복2로  성복동  726  LG빌리지3  2002  15  134.993  2023  3  ...     0726   \n\n     법정동부번코드 법정동시군구코드 법정동읍면동코드 법정동지번코드      일련번호  거래유형    중개사소재지 해제사유발생일  해제여부  \n812     0000    41465    10600       1  41465-93   직거래      None    None  None  \n577     0000    41465    10600       1  41465-93  중개거래  경기 용인수지구    None  None  \n804     0000    41465    10600       1  41465-93  중개거래  경기 용인수지구    None  None  \n612     0000    41465    10600       1  41465-93  중개거래  경기 용인수지구    None  None  \n607     0000    41465    10600       1  41465-93  중개거래  경기 용인수지구    None  None  \n\n[5 rows x 28 columns]",
      "text/html": "<div>\n<style scoped>\n    .dataframe tbody tr th:only-of-type {\n        vertical-align: middle;\n    }\n\n    .dataframe tbody tr th {\n        vertical-align: top;\n    }\n\n    .dataframe thead th {\n        text-align: right;\n    }\n</style>\n<table border=\"1\" class=\"dataframe\">\n  <thead>\n    <tr style=\"text-align: right;\">\n      <th></th>\n      <th>지역코드</th>\n      <th>도로명</th>\n      <th>법정동</th>\n      <th>지번</th>\n      <th>아파트</th>\n      <th>건축년도</th>\n      <th>층</th>\n      <th>전용면적</th>\n      <th>년</th>\n      <th>월</th>\n      <th>...</th>\n      <th>법정동본번코드</th>\n      <th>법정동부번코드</th>\n      <th>법정동시군구코드</th>\n      <th>법정동읍면동코드</th>\n      <th>법정동지번코드</th>\n      <th>일련번호</th>\n      <th>거래유형</th>\n      <th>중개사소재지</th>\n      <th>해제사유발생일</th>\n      <th>해제여부</th>\n    </tr>\n  </thead>\n  <tbody>\n    <tr>\n      <th>812</th>\n      <td>41465</td>\n      <td>성복2로</td>\n      <td>성복동</td>\n      <td>726</td>\n      <td>LG빌리지3</td>\n      <td>2002</td>\n      <td>7</td>\n      <td>239.193</td>\n      <td>2023</td>\n      <td>4</td>\n      <td>...</td>\n      <td>0726</td>\n      <td>0000</td>\n      <td>41465</td>\n      <td>10600</td>\n      <td>1</td>\n      <td>41465-93</td>\n      <td>직거래</td>\n      <td>None</td>\n      <td>None</td>\n      <td>None</td>\n    </tr>\n    <tr>\n      <th>577</th>\n      <td>41465</td>\n      <td>성복2로</td>\n      <td>성복동</td>\n      <td>726</td>\n      <td>LG빌리지3</td>\n      <td>2002</td>\n      <td>15</td>\n      <td>134.993</td>\n      <td>2023</td>\n      <td>3</td>\n      <td>...</td>\n      <td>0726</td>\n      <td>0000</td>\n      <td>41465</td>\n      <td>10600</td>\n      <td>1</td>\n      <td>41465-93</td>\n      <td>중개거래</td>\n      <td>경기 용인수지구</td>\n      <td>None</td>\n      <td>None</td>\n    </tr>\n    <tr>\n      <th>804</th>\n      <td>41465</td>\n      <td>성복2로</td>\n      <td>성복동</td>\n      <td>726</td>\n      <td>LG빌리지3</td>\n      <td>2002</td>\n      <td>4</td>\n      <td>204.202</td>\n      <td>2023</td>\n      <td>4</td>\n      <td>...</td>\n      <td>0726</td>\n      <td>0000</td>\n      <td>41465</td>\n      <td>10600</td>\n      <td>1</td>\n      <td>41465-93</td>\n      <td>중개거래</td>\n      <td>경기 용인수지구</td>\n      <td>None</td>\n      <td>None</td>\n    </tr>\n    <tr>\n      <th>612</th>\n      <td>41465</td>\n      <td>성복2로</td>\n      <td>성복동</td>\n      <td>726</td>\n      <td>LG빌리지3</td>\n      <td>2002</td>\n      <td>1</td>\n      <td>134.993</td>\n      <td>2023</td>\n      <td>3</td>\n      <td>...</td>\n      <td>0726</td>\n      <td>0000</td>\n      <td>41465</td>\n      <td>10600</td>\n      <td>1</td>\n      <td>41465-93</td>\n      <td>중개거래</td>\n      <td>경기 용인수지구</td>\n      <td>None</td>\n      <td>None</td>\n    </tr>\n    <tr>\n      <th>607</th>\n      <td>41465</td>\n      <td>성복2로</td>\n      <td>성복동</td>\n      <td>726</td>\n      <td>LG빌리지3</td>\n      <td>2002</td>\n      <td>15</td>\n      <td>134.993</td>\n      <td>2023</td>\n      <td>3</td>\n      <td>...</td>\n      <td>0726</td>\n      <td>0000</td>\n      <td>41465</td>\n      <td>10600</td>\n      <td>1</td>\n      <td>41465-93</td>\n      <td>중개거래</td>\n      <td>경기 용인수지구</td>\n      <td>None</td>\n      <td>None</td>\n    </tr>\n  </tbody>\n</table>\n<p>5 rows × 28 columns</p>\n</div>"
     },
     "execution_count": 86,
     "metadata": {},
     "output_type": "execute_result"
    }
   ],
   "source": [
    "# df에 대해 '아파트' 를 가나다 순으로 재정렬\n",
    "df = df.sort_values(by=['아파트'], axis=0)\n",
    "df.head()"
   ],
   "metadata": {
    "collapsed": false,
    "ExecuteTime": {
     "start_time": "2023-04-25T02:06:09.068317Z",
     "end_time": "2023-04-25T02:06:09.095558Z"
    }
   }
  },
  {
   "cell_type": "code",
   "execution_count": 87,
   "outputs": [],
   "source": [
    "# df에 대해 필요없는 column 제거\n",
    "# 제거 대상 = 지역코드, 지번, 법정동, 건축년도, 해제사유발생일, 해제여부, 등록사유발생일, 등록사유, 전월세구분코드, 층,  거래시간, 거래유형, 중개사소재지, 일련번호, '법정동부번코드', '법정동본번코드', '법정동시군구코드', '법정동읍면동코드', '법정동지번코드', '도로명코드', '도로명일련번호코드', '도로명지상지하코드', '도로명건물부번호코드', '도로명건물본번호코드'\n",
    "df3 = df.copy()"
   ],
   "metadata": {
    "collapsed": false,
    "ExecuteTime": {
     "start_time": "2023-04-25T02:06:09.095558Z",
     "end_time": "2023-04-25T02:06:09.109556Z"
    }
   }
  },
  {
   "cell_type": "code",
   "execution_count": 88,
   "outputs": [
    {
     "data": {
      "text/plain": "      도로명  법정동     아파트     전용면적     년  월   일    거래금액\n812  성복2로  성복동  LG빌리지3  239.193  2023  4  20  110000\n577  성복2로  성복동  LG빌리지3  134.993  2023  3   4   70000\n804  성복2로  성복동  LG빌리지3  204.202  2023  4   8  101000\n612  성복2로  성복동  LG빌리지3  134.993  2023  3  23   74500\n607  성복2로  성복동  LG빌리지3  134.993  2023  3  19   80000",
      "text/html": "<div>\n<style scoped>\n    .dataframe tbody tr th:only-of-type {\n        vertical-align: middle;\n    }\n\n    .dataframe tbody tr th {\n        vertical-align: top;\n    }\n\n    .dataframe thead th {\n        text-align: right;\n    }\n</style>\n<table border=\"1\" class=\"dataframe\">\n  <thead>\n    <tr style=\"text-align: right;\">\n      <th></th>\n      <th>도로명</th>\n      <th>법정동</th>\n      <th>아파트</th>\n      <th>전용면적</th>\n      <th>년</th>\n      <th>월</th>\n      <th>일</th>\n      <th>거래금액</th>\n    </tr>\n  </thead>\n  <tbody>\n    <tr>\n      <th>812</th>\n      <td>성복2로</td>\n      <td>성복동</td>\n      <td>LG빌리지3</td>\n      <td>239.193</td>\n      <td>2023</td>\n      <td>4</td>\n      <td>20</td>\n      <td>110000</td>\n    </tr>\n    <tr>\n      <th>577</th>\n      <td>성복2로</td>\n      <td>성복동</td>\n      <td>LG빌리지3</td>\n      <td>134.993</td>\n      <td>2023</td>\n      <td>3</td>\n      <td>4</td>\n      <td>70000</td>\n    </tr>\n    <tr>\n      <th>804</th>\n      <td>성복2로</td>\n      <td>성복동</td>\n      <td>LG빌리지3</td>\n      <td>204.202</td>\n      <td>2023</td>\n      <td>4</td>\n      <td>8</td>\n      <td>101000</td>\n    </tr>\n    <tr>\n      <th>612</th>\n      <td>성복2로</td>\n      <td>성복동</td>\n      <td>LG빌리지3</td>\n      <td>134.993</td>\n      <td>2023</td>\n      <td>3</td>\n      <td>23</td>\n      <td>74500</td>\n    </tr>\n    <tr>\n      <th>607</th>\n      <td>성복2로</td>\n      <td>성복동</td>\n      <td>LG빌리지3</td>\n      <td>134.993</td>\n      <td>2023</td>\n      <td>3</td>\n      <td>19</td>\n      <td>80000</td>\n    </tr>\n  </tbody>\n</table>\n</div>"
     },
     "execution_count": 88,
     "metadata": {},
     "output_type": "execute_result"
    }
   ],
   "source": [
    "df.drop(['지역코드', '지번', '건축년도', '해제사유발생일', '해제여부', '층', '거래유형', '중개사소재지', '일련번호', '법정동부번코드', '법정동본번코드', '법정동시군구코드', '법정동읍면동코드', '법정동지번코드', '도로명코드', '도로명일련번호코드', '도로명지상지하코드', '도로명건물부번호코드', '도로명건물본번호코드','도로명시군구코드'], axis=1, inplace=True)\n",
    "df.head()"
   ],
   "metadata": {
    "collapsed": false,
    "ExecuteTime": {
     "start_time": "2023-04-25T02:06:09.112518Z",
     "end_time": "2023-04-25T02:06:09.132648Z"
    }
   }
  },
  {
   "cell_type": "code",
   "execution_count": 89,
   "outputs": [
    {
     "data": {
      "text/plain": "      도로명  법정동     아파트     전용면적     년  월   일    거래금액         날짜\n812  성복2로  성복동  LG빌리지3  239.193  2023  4  20  110000 2023-04-20\n577  성복2로  성복동  LG빌리지3  134.993  2023  3   4   70000 2023-03-04\n804  성복2로  성복동  LG빌리지3  204.202  2023  4   8  101000 2023-04-08\n612  성복2로  성복동  LG빌리지3  134.993  2023  3  23   74500 2023-03-23\n607  성복2로  성복동  LG빌리지3  134.993  2023  3  19   80000 2023-03-19",
      "text/html": "<div>\n<style scoped>\n    .dataframe tbody tr th:only-of-type {\n        vertical-align: middle;\n    }\n\n    .dataframe tbody tr th {\n        vertical-align: top;\n    }\n\n    .dataframe thead th {\n        text-align: right;\n    }\n</style>\n<table border=\"1\" class=\"dataframe\">\n  <thead>\n    <tr style=\"text-align: right;\">\n      <th></th>\n      <th>도로명</th>\n      <th>법정동</th>\n      <th>아파트</th>\n      <th>전용면적</th>\n      <th>년</th>\n      <th>월</th>\n      <th>일</th>\n      <th>거래금액</th>\n      <th>날짜</th>\n    </tr>\n  </thead>\n  <tbody>\n    <tr>\n      <th>812</th>\n      <td>성복2로</td>\n      <td>성복동</td>\n      <td>LG빌리지3</td>\n      <td>239.193</td>\n      <td>2023</td>\n      <td>4</td>\n      <td>20</td>\n      <td>110000</td>\n      <td>2023-04-20</td>\n    </tr>\n    <tr>\n      <th>577</th>\n      <td>성복2로</td>\n      <td>성복동</td>\n      <td>LG빌리지3</td>\n      <td>134.993</td>\n      <td>2023</td>\n      <td>3</td>\n      <td>4</td>\n      <td>70000</td>\n      <td>2023-03-04</td>\n    </tr>\n    <tr>\n      <th>804</th>\n      <td>성복2로</td>\n      <td>성복동</td>\n      <td>LG빌리지3</td>\n      <td>204.202</td>\n      <td>2023</td>\n      <td>4</td>\n      <td>8</td>\n      <td>101000</td>\n      <td>2023-04-08</td>\n    </tr>\n    <tr>\n      <th>612</th>\n      <td>성복2로</td>\n      <td>성복동</td>\n      <td>LG빌리지3</td>\n      <td>134.993</td>\n      <td>2023</td>\n      <td>3</td>\n      <td>23</td>\n      <td>74500</td>\n      <td>2023-03-23</td>\n    </tr>\n    <tr>\n      <th>607</th>\n      <td>성복2로</td>\n      <td>성복동</td>\n      <td>LG빌리지3</td>\n      <td>134.993</td>\n      <td>2023</td>\n      <td>3</td>\n      <td>19</td>\n      <td>80000</td>\n      <td>2023-03-19</td>\n    </tr>\n  </tbody>\n</table>\n</div>"
     },
     "execution_count": 89,
     "metadata": {},
     "output_type": "execute_result"
    }
   ],
   "source": [
    "# df에 대해 년, 월, 일을 합쳐서 날짜 column 만들고 datetime 형식으로 변경\n",
    "df['날짜'] = df['년'].astype(str) + '-' + df['월'].astype(str) + '-' + df['일'].astype(str)\n",
    "df['날짜'] = pd.to_datetime(df['날짜'])\n",
    "df.head()"
   ],
   "metadata": {
    "collapsed": false,
    "ExecuteTime": {
     "start_time": "2023-04-25T02:06:09.406624Z",
     "end_time": "2023-04-25T02:06:09.463228Z"
    }
   }
  },
  {
   "cell_type": "code",
   "execution_count": 90,
   "outputs": [
    {
     "data": {
      "text/plain": "      도로명  법정동     아파트     전용면적     년  월   일    거래금액         날짜   평\n812  성복2로  성복동  LG빌리지3  239.193  2023  4  20  110000 2023-04-20  72\n577  성복2로  성복동  LG빌리지3  134.993  2023  3   4   70000 2023-03-04  41\n804  성복2로  성복동  LG빌리지3  204.202  2023  4   8  101000 2023-04-08  62\n612  성복2로  성복동  LG빌리지3  134.993  2023  3  23   74500 2023-03-23  41\n607  성복2로  성복동  LG빌리지3  134.993  2023  3  19   80000 2023-03-19  41",
      "text/html": "<div>\n<style scoped>\n    .dataframe tbody tr th:only-of-type {\n        vertical-align: middle;\n    }\n\n    .dataframe tbody tr th {\n        vertical-align: top;\n    }\n\n    .dataframe thead th {\n        text-align: right;\n    }\n</style>\n<table border=\"1\" class=\"dataframe\">\n  <thead>\n    <tr style=\"text-align: right;\">\n      <th></th>\n      <th>도로명</th>\n      <th>법정동</th>\n      <th>아파트</th>\n      <th>전용면적</th>\n      <th>년</th>\n      <th>월</th>\n      <th>일</th>\n      <th>거래금액</th>\n      <th>날짜</th>\n      <th>평</th>\n    </tr>\n  </thead>\n  <tbody>\n    <tr>\n      <th>812</th>\n      <td>성복2로</td>\n      <td>성복동</td>\n      <td>LG빌리지3</td>\n      <td>239.193</td>\n      <td>2023</td>\n      <td>4</td>\n      <td>20</td>\n      <td>110000</td>\n      <td>2023-04-20</td>\n      <td>72</td>\n    </tr>\n    <tr>\n      <th>577</th>\n      <td>성복2로</td>\n      <td>성복동</td>\n      <td>LG빌리지3</td>\n      <td>134.993</td>\n      <td>2023</td>\n      <td>3</td>\n      <td>4</td>\n      <td>70000</td>\n      <td>2023-03-04</td>\n      <td>41</td>\n    </tr>\n    <tr>\n      <th>804</th>\n      <td>성복2로</td>\n      <td>성복동</td>\n      <td>LG빌리지3</td>\n      <td>204.202</td>\n      <td>2023</td>\n      <td>4</td>\n      <td>8</td>\n      <td>101000</td>\n      <td>2023-04-08</td>\n      <td>62</td>\n    </tr>\n    <tr>\n      <th>612</th>\n      <td>성복2로</td>\n      <td>성복동</td>\n      <td>LG빌리지3</td>\n      <td>134.993</td>\n      <td>2023</td>\n      <td>3</td>\n      <td>23</td>\n      <td>74500</td>\n      <td>2023-03-23</td>\n      <td>41</td>\n    </tr>\n    <tr>\n      <th>607</th>\n      <td>성복2로</td>\n      <td>성복동</td>\n      <td>LG빌리지3</td>\n      <td>134.993</td>\n      <td>2023</td>\n      <td>3</td>\n      <td>19</td>\n      <td>80000</td>\n      <td>2023-03-19</td>\n      <td>41</td>\n    </tr>\n  </tbody>\n</table>\n</div>"
     },
     "execution_count": 90,
     "metadata": {},
     "output_type": "execute_result"
    }
   ],
   "source": [
    "# 전용면적 기준 '평' column 생성 후 소수점 반올림\n",
    "df['평'] = df['전용면적'].apply(lambda x: round(x/3.3))\n",
    "df.head()"
   ],
   "metadata": {
    "collapsed": false,
    "ExecuteTime": {
     "start_time": "2023-04-25T02:06:11.884887Z",
     "end_time": "2023-04-25T02:06:11.902349Z"
    }
   }
  },
  {
   "cell_type": "code",
   "execution_count": 91,
   "outputs": [
    {
     "data": {
      "text/plain": "           도로명   법정동       아파트     전용면적     년  월   일    거래금액         날짜   평\n612       성복2로   성복동    LG빌리지3  134.993  2023  3  23   74500 2023-03-23  41\n804       성복2로   성복동    LG빌리지3  204.202  2023  4   8  101000 2023-04-08  62\n812       성복2로   성복동    LG빌리지3  239.193  2023  4  20  110000 2023-04-20  72\n733  포은대로313번길  풍덕천동   e편한세상수지   84.964  2023  4   8  107500 2023-04-08  26\n712      광교마을로   상현동  광교경남아너스빌   84.990  2023  3  30  103000 2023-03-30  26",
      "text/html": "<div>\n<style scoped>\n    .dataframe tbody tr th:only-of-type {\n        vertical-align: middle;\n    }\n\n    .dataframe tbody tr th {\n        vertical-align: top;\n    }\n\n    .dataframe thead th {\n        text-align: right;\n    }\n</style>\n<table border=\"1\" class=\"dataframe\">\n  <thead>\n    <tr style=\"text-align: right;\">\n      <th></th>\n      <th>도로명</th>\n      <th>법정동</th>\n      <th>아파트</th>\n      <th>전용면적</th>\n      <th>년</th>\n      <th>월</th>\n      <th>일</th>\n      <th>거래금액</th>\n      <th>날짜</th>\n      <th>평</th>\n    </tr>\n  </thead>\n  <tbody>\n    <tr>\n      <th>612</th>\n      <td>성복2로</td>\n      <td>성복동</td>\n      <td>LG빌리지3</td>\n      <td>134.993</td>\n      <td>2023</td>\n      <td>3</td>\n      <td>23</td>\n      <td>74500</td>\n      <td>2023-03-23</td>\n      <td>41</td>\n    </tr>\n    <tr>\n      <th>804</th>\n      <td>성복2로</td>\n      <td>성복동</td>\n      <td>LG빌리지3</td>\n      <td>204.202</td>\n      <td>2023</td>\n      <td>4</td>\n      <td>8</td>\n      <td>101000</td>\n      <td>2023-04-08</td>\n      <td>62</td>\n    </tr>\n    <tr>\n      <th>812</th>\n      <td>성복2로</td>\n      <td>성복동</td>\n      <td>LG빌리지3</td>\n      <td>239.193</td>\n      <td>2023</td>\n      <td>4</td>\n      <td>20</td>\n      <td>110000</td>\n      <td>2023-04-20</td>\n      <td>72</td>\n    </tr>\n    <tr>\n      <th>733</th>\n      <td>포은대로313번길</td>\n      <td>풍덕천동</td>\n      <td>e편한세상수지</td>\n      <td>84.964</td>\n      <td>2023</td>\n      <td>4</td>\n      <td>8</td>\n      <td>107500</td>\n      <td>2023-04-08</td>\n      <td>26</td>\n    </tr>\n    <tr>\n      <th>712</th>\n      <td>광교마을로</td>\n      <td>상현동</td>\n      <td>광교경남아너스빌</td>\n      <td>84.990</td>\n      <td>2023</td>\n      <td>3</td>\n      <td>30</td>\n      <td>103000</td>\n      <td>2023-03-30</td>\n      <td>26</td>\n    </tr>\n  </tbody>\n</table>\n</div>"
     },
     "execution_count": 91,
     "metadata": {},
     "output_type": "execute_result"
    }
   ],
   "source": [
    "# 각 아파트별로 평수 별로 최신 날짜 기준으로 1개씩만 남기고 나머지는 전부 제거\n",
    "df = df.sort_values(by=['아파트', '평', '날짜'], axis=0)\n",
    "df = df.drop_duplicates(['아파트', '평'], keep='last')\n",
    "df.head()"
   ],
   "metadata": {
    "collapsed": false,
    "ExecuteTime": {
     "start_time": "2023-04-25T02:06:16.429057Z",
     "end_time": "2023-04-25T02:06:16.463963Z"
    }
   }
  },
  {
   "cell_type": "code",
   "execution_count": 93,
   "outputs": [],
   "source": [
    "# df를 xlsx 파일로 저장\n",
    "import openpyxl\n",
    "df.to_excel('용인시_수지구_아파트_매매가_202302_202304.xlsx')"
   ],
   "metadata": {
    "collapsed": false,
    "ExecuteTime": {
     "start_time": "2023-04-25T02:06:29.371714Z",
     "end_time": "2023-04-25T02:06:29.472130Z"
    }
   }
  },
  {
   "cell_type": "markdown",
   "source": [
    "## KB국민은행 부동산 API\n",
    "**https://wooiljeong.github.io/python/pdr-kbland/ 참고**"
   ],
   "metadata": {
    "collapsed": false
   }
  },
  {
   "cell_type": "code",
   "execution_count": 50,
   "outputs": [
    {
     "data": {
      "text/plain": "  월간주간구분 매물종별구분 거래구분        지역코드 지역명         날짜        가격지수\n0     주간    아파트   매매  4100000000     2022-04-18  100.303695\n1     주간    아파트   매매  4100000000     2022-04-25  100.345556\n2     주간    아파트   매매  4100000000     2022-05-02  100.378402\n3     주간    아파트   매매  4100000000     2022-05-09  100.415592\n4     주간    아파트   매매  4100000000     2022-05-16  100.428806\n5     주간    아파트   매매  4100000000     2022-05-23  100.442135\n6     주간    아파트   매매  4100000000     2022-05-30  100.428125\n7     주간    아파트   매매  4100000000     2022-06-06  100.423016\n8     주간    아파트   매매  4100000000     2022-06-13  100.383025\n9     주간    아파트   매매  4100000000     2022-06-20  100.369289",
      "text/html": "<div>\n<style scoped>\n    .dataframe tbody tr th:only-of-type {\n        vertical-align: middle;\n    }\n\n    .dataframe tbody tr th {\n        vertical-align: top;\n    }\n\n    .dataframe thead th {\n        text-align: right;\n    }\n</style>\n<table border=\"1\" class=\"dataframe\">\n  <thead>\n    <tr style=\"text-align: right;\">\n      <th></th>\n      <th>월간주간구분</th>\n      <th>매물종별구분</th>\n      <th>거래구분</th>\n      <th>지역코드</th>\n      <th>지역명</th>\n      <th>날짜</th>\n      <th>가격지수</th>\n    </tr>\n  </thead>\n  <tbody>\n    <tr>\n      <th>0</th>\n      <td>주간</td>\n      <td>아파트</td>\n      <td>매매</td>\n      <td>4100000000</td>\n      <td></td>\n      <td>2022-04-18</td>\n      <td>100.303695</td>\n    </tr>\n    <tr>\n      <th>1</th>\n      <td>주간</td>\n      <td>아파트</td>\n      <td>매매</td>\n      <td>4100000000</td>\n      <td></td>\n      <td>2022-04-25</td>\n      <td>100.345556</td>\n    </tr>\n    <tr>\n      <th>2</th>\n      <td>주간</td>\n      <td>아파트</td>\n      <td>매매</td>\n      <td>4100000000</td>\n      <td></td>\n      <td>2022-05-02</td>\n      <td>100.378402</td>\n    </tr>\n    <tr>\n      <th>3</th>\n      <td>주간</td>\n      <td>아파트</td>\n      <td>매매</td>\n      <td>4100000000</td>\n      <td></td>\n      <td>2022-05-09</td>\n      <td>100.415592</td>\n    </tr>\n    <tr>\n      <th>4</th>\n      <td>주간</td>\n      <td>아파트</td>\n      <td>매매</td>\n      <td>4100000000</td>\n      <td></td>\n      <td>2022-05-16</td>\n      <td>100.428806</td>\n    </tr>\n    <tr>\n      <th>5</th>\n      <td>주간</td>\n      <td>아파트</td>\n      <td>매매</td>\n      <td>4100000000</td>\n      <td></td>\n      <td>2022-05-23</td>\n      <td>100.442135</td>\n    </tr>\n    <tr>\n      <th>6</th>\n      <td>주간</td>\n      <td>아파트</td>\n      <td>매매</td>\n      <td>4100000000</td>\n      <td></td>\n      <td>2022-05-30</td>\n      <td>100.428125</td>\n    </tr>\n    <tr>\n      <th>7</th>\n      <td>주간</td>\n      <td>아파트</td>\n      <td>매매</td>\n      <td>4100000000</td>\n      <td></td>\n      <td>2022-06-06</td>\n      <td>100.423016</td>\n    </tr>\n    <tr>\n      <th>8</th>\n      <td>주간</td>\n      <td>아파트</td>\n      <td>매매</td>\n      <td>4100000000</td>\n      <td></td>\n      <td>2022-06-13</td>\n      <td>100.383025</td>\n    </tr>\n    <tr>\n      <th>9</th>\n      <td>주간</td>\n      <td>아파트</td>\n      <td>매매</td>\n      <td>4100000000</td>\n      <td></td>\n      <td>2022-06-20</td>\n      <td>100.369289</td>\n    </tr>\n  </tbody>\n</table>\n</div>"
     },
     "execution_count": 50,
     "metadata": {},
     "output_type": "execute_result"
    }
   ],
   "source": [
    "from PublicDataReader import Kbland\n",
    "api = Kbland()\n",
    "params = {\n",
    "    \"월간주간구분코드\": \"02\",\n",
    "    \"매물종별구분\": \"01\",\n",
    "    \"매매전세코드\": \"01\",\n",
    "    \"지역코드\": \"41\",\n",
    "    \"기간\": \"1\",\n",
    "}\n",
    "df1 = api.get_price_index(**params)\n",
    "df1.head(10)"
   ],
   "metadata": {
    "collapsed": false,
    "ExecuteTime": {
     "start_time": "2023-04-25T01:41:19.665076Z",
     "end_time": "2023-04-25T01:41:21.429588Z"
    }
   }
  },
  {
   "cell_type": "code",
   "execution_count": 46,
   "outputs": [],
   "source": [
    "# 지역명 = '용인시'인 데이터만 추출\n",
    "# df1 = df[df['지역명'].str.contains('용인시')]"
   ],
   "metadata": {
    "collapsed": false,
    "ExecuteTime": {
     "start_time": "2023-04-25T01:38:29.308534Z",
     "end_time": "2023-04-25T01:38:29.324334Z"
    }
   }
  },
  {
   "cell_type": "code",
   "execution_count": 51,
   "outputs": [],
   "source": [
    "# 지역명 = '수지구'인 데이터만 추출\n",
    "df2 = df[df['지역명'].str.contains('수지구')]"
   ],
   "metadata": {
    "collapsed": false,
    "ExecuteTime": {
     "start_time": "2023-04-25T01:41:31.003645Z",
     "end_time": "2023-04-25T01:41:31.023457Z"
    }
   }
  },
  {
   "cell_type": "code",
   "execution_count": 53,
   "outputs": [],
   "source": [
    "# df1에 대해 가격지수 높은 순서대로 정렬\n",
    "df2 = df1.sort_values(by=['가격지수'], axis=0, ascending=False)"
   ],
   "metadata": {
    "collapsed": false,
    "ExecuteTime": {
     "start_time": "2023-04-25T01:42:31.002857Z",
     "end_time": "2023-04-25T01:42:31.013828Z"
    }
   }
  },
  {
   "cell_type": "code",
   "execution_count": 54,
   "outputs": [
    {
     "data": {
      "text/plain": "     월간주간구분 매물종별구분 거래구분        지역코드  지역명         날짜       가격지수\n1836     주간    아파트   매매  4146500000  수지구 2022-04-18  99.803732\n1837     주간    아파트   매매  4146500000  수지구 2022-04-25  99.734028\n1838     주간    아파트   매매  4146500000  수지구 2022-05-02  99.663043\n1839     주간    아파트   매매  4146500000  수지구 2022-05-09  99.643368\n1840     주간    아파트   매매  4146500000  수지구 2022-05-16  99.540486\n1841     주간    아파트   매매  4146500000  수지구 2022-05-23  99.540402\n1842     주간    아파트   매매  4146500000  수지구 2022-05-30  99.514108\n1843     주간    아파트   매매  4146500000  수지구 2022-06-06  99.354219\n1844     주간    아파트   매매  4146500000  수지구 2022-06-13  99.199272\n1845     주간    아파트   매매  4146500000  수지구 2022-06-20  99.063108",
      "text/html": "<div>\n<style scoped>\n    .dataframe tbody tr th:only-of-type {\n        vertical-align: middle;\n    }\n\n    .dataframe tbody tr th {\n        vertical-align: top;\n    }\n\n    .dataframe thead th {\n        text-align: right;\n    }\n</style>\n<table border=\"1\" class=\"dataframe\">\n  <thead>\n    <tr style=\"text-align: right;\">\n      <th></th>\n      <th>월간주간구분</th>\n      <th>매물종별구분</th>\n      <th>거래구분</th>\n      <th>지역코드</th>\n      <th>지역명</th>\n      <th>날짜</th>\n      <th>가격지수</th>\n    </tr>\n  </thead>\n  <tbody>\n    <tr>\n      <th>1836</th>\n      <td>주간</td>\n      <td>아파트</td>\n      <td>매매</td>\n      <td>4146500000</td>\n      <td>수지구</td>\n      <td>2022-04-18</td>\n      <td>99.803732</td>\n    </tr>\n    <tr>\n      <th>1837</th>\n      <td>주간</td>\n      <td>아파트</td>\n      <td>매매</td>\n      <td>4146500000</td>\n      <td>수지구</td>\n      <td>2022-04-25</td>\n      <td>99.734028</td>\n    </tr>\n    <tr>\n      <th>1838</th>\n      <td>주간</td>\n      <td>아파트</td>\n      <td>매매</td>\n      <td>4146500000</td>\n      <td>수지구</td>\n      <td>2022-05-02</td>\n      <td>99.663043</td>\n    </tr>\n    <tr>\n      <th>1839</th>\n      <td>주간</td>\n      <td>아파트</td>\n      <td>매매</td>\n      <td>4146500000</td>\n      <td>수지구</td>\n      <td>2022-05-09</td>\n      <td>99.643368</td>\n    </tr>\n    <tr>\n      <th>1840</th>\n      <td>주간</td>\n      <td>아파트</td>\n      <td>매매</td>\n      <td>4146500000</td>\n      <td>수지구</td>\n      <td>2022-05-16</td>\n      <td>99.540486</td>\n    </tr>\n    <tr>\n      <th>1841</th>\n      <td>주간</td>\n      <td>아파트</td>\n      <td>매매</td>\n      <td>4146500000</td>\n      <td>수지구</td>\n      <td>2022-05-23</td>\n      <td>99.540402</td>\n    </tr>\n    <tr>\n      <th>1842</th>\n      <td>주간</td>\n      <td>아파트</td>\n      <td>매매</td>\n      <td>4146500000</td>\n      <td>수지구</td>\n      <td>2022-05-30</td>\n      <td>99.514108</td>\n    </tr>\n    <tr>\n      <th>1843</th>\n      <td>주간</td>\n      <td>아파트</td>\n      <td>매매</td>\n      <td>4146500000</td>\n      <td>수지구</td>\n      <td>2022-06-06</td>\n      <td>99.354219</td>\n    </tr>\n    <tr>\n      <th>1844</th>\n      <td>주간</td>\n      <td>아파트</td>\n      <td>매매</td>\n      <td>4146500000</td>\n      <td>수지구</td>\n      <td>2022-06-13</td>\n      <td>99.199272</td>\n    </tr>\n    <tr>\n      <th>1845</th>\n      <td>주간</td>\n      <td>아파트</td>\n      <td>매매</td>\n      <td>4146500000</td>\n      <td>수지구</td>\n      <td>2022-06-20</td>\n      <td>99.063108</td>\n    </tr>\n  </tbody>\n</table>\n</div>"
     },
     "execution_count": 54,
     "metadata": {},
     "output_type": "execute_result"
    }
   ],
   "source": [
    "df2.head(10)"
   ],
   "metadata": {
    "collapsed": false,
    "ExecuteTime": {
     "start_time": "2023-04-25T01:42:33.661785Z",
     "end_time": "2023-04-25T01:42:33.673755Z"
    }
   }
  },
  {
   "cell_type": "code",
   "execution_count": null,
   "outputs": [],
   "source": [],
   "metadata": {
    "collapsed": false
   }
  }
 ],
 "metadata": {
  "kernelspec": {
   "display_name": "Python 3",
   "language": "python",
   "name": "python3"
  },
  "language_info": {
   "codemirror_mode": {
    "name": "ipython",
    "version": 2
   },
   "file_extension": ".py",
   "mimetype": "text/x-python",
   "name": "python",
   "nbconvert_exporter": "python",
   "pygments_lexer": "ipython2",
   "version": "2.7.6"
  }
 },
 "nbformat": 4,
 "nbformat_minor": 0
}
