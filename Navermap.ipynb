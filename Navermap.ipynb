{
 "cells": [
  {
   "cell_type": "code",
   "execution_count": 1,
   "metadata": {
    "collapsed": true,
    "ExecuteTime": {
     "start_time": "2023-04-25T01:19:13.230385Z",
     "end_time": "2023-04-25T01:19:13.707807Z"
    }
   },
   "outputs": [],
   "source": [
    "import requests\n",
    "import json\n",
    "down_url = 'https://new.land.naver.com/api/complexes/8928'\n",
    "r = requests.get(down_url,data={\"sameAddressGroup\":\"false\"},headers={\n",
    "    \"Accept-Encoding\": \"gzip\",\n",
    "    \"Host\": \"new.land.naver.com\",\n",
    "    \"Referer\": \"https://new.land.naver.com/complexes/8928?ms=37.482968,127.0634,16&a=APT&b=A1&e=RETAIL\",\n",
    "    \"Sec-Fetch-Dest\": \"empty\",\n",
    "    \"Sec-Fetch-Mode\": \"cors\",\n",
    "    \"Sec-Fetch-Site\": \"same-origin\",\n",
    "    \"User-Agent\": \"Mozilla/5.0 (Windows NT 10.0; Win64; x64) AppleWebKit/537.36 (KHTML, like Gecko) Chrome/86.0.4240.198 Safari/537.36\"\n",
    "})\n",
    "r.encoding = \"utf-8-sig\"\n",
    "temp=json.loads(r.text)"
   ]
  },
  {
   "cell_type": "code",
   "execution_count": null,
   "outputs": [],
   "source": [
    "# PublicDataReader 활용\n"
   ],
   "metadata": {
    "collapsed": false
   }
  }
 ],
 "metadata": {
  "kernelspec": {
   "display_name": "Python 3",
   "language": "python",
   "name": "python3"
  },
  "language_info": {
   "codemirror_mode": {
    "name": "ipython",
    "version": 2
   },
   "file_extension": ".py",
   "mimetype": "text/x-python",
   "name": "python",
   "nbconvert_exporter": "python",
   "pygments_lexer": "ipython2",
   "version": "2.7.6"
  }
 },
 "nbformat": 4,
 "nbformat_minor": 0
}
